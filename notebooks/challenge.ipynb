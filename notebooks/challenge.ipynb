{
 "cells": [
  {
   "cell_type": "markdown",
   "metadata": {},
   "source": [
    "2018 Edition"
   ]
  },
  {
   "cell_type": "markdown",
   "metadata": {},
   "source": [
    "# Challenge: What is the future selling price of a home?\n",
    "\n",
    "A home is often the largest and most expensive purchase a person makes in his or her lifetime. Ensuring homeowners have a trusted way to monitor this asset is incredibly important.\n",
    "\n",
    "In this competition, students are required to develop a full-fledged approach to make predictions about the future sale prices of homes. A full-fledged approach constist, at least, in the following steps:\n",
    "\n",
    "* Descriptive statistics about the data\n",
    "* Data cleaning and pre-processing\n",
    "* Defining a modeling approach to the problem\n",
    "* Build such a statistical model\n",
    "* Validate the outcome of the model\n",
    "\n",
    "Now, should you ask a home buyer to describe their dream house, they probably wouldn't begin with describing features such as the height of the basement ceiling or the proximity to a railroad. As you will see, the dataset we use in this competition proves that many more features influence price negotiations than the number of bedrooms or a white-picket fence.\n",
    "\n",
    "With 79 explanatory variables describing (almost) every aspect of residential homes in a small city in the US, this competition challenges you to predict the final price of each home."
   ]
  },
  {
   "cell_type": "markdown",
   "metadata": {},
   "source": [
    "# The dataset\n",
    "\n",
    "## File descriptions\n",
    "\n",
    "* train.csv - the training dataset\n",
    "* test.csv - the test dataset\n",
    "* data_description.txt - full description of each column\n",
    "\n",
    "## Data fields\n",
    "Here's a brief version of what you'll find in the data description file.\n",
    "\n",
    "* SalePrice - the property's sale price in dollars. This is the target variable that you're trying to predict.\n",
    "* MSSubClass: The building class\n",
    "* MSZoning: The general zoning classification\n",
    "* LotFrontage: Linear feet of street connected to property\n",
    "* LotArea: Lot size in square feet\n",
    "* Street: Type of road access\n",
    "* Alley: Type of alley access\n",
    "* LotShape: General shape of property\n",
    "* LandContour: Flatness of the property\n",
    "* Utilities: Type of utilities available\n",
    "* LotConfig: Lot configuration\n",
    "* LandSlope: Slope of property\n",
    "* Neighborhood: Physical locations within Ames city limits\n",
    "* Condition1: Proximity to main road or railroad\n",
    "* Condition2: Proximity to main road or railroad (if a second is present)\n",
    "* BldgType: Type of dwelling\n",
    "* HouseStyle: Style of dwelling\n",
    "* OverallQual: Overall material and finish quality\n",
    "* OverallCond: Overall condition rating\n",
    "* YearBuilt: Original construction date\n",
    "* YearRemodAdd: Remodel date\n",
    "* RoofStyle: Type of roof\n",
    "* RoofMatl: Roof material\n",
    "* Exterior1st: Exterior covering on house\n",
    "* Exterior2nd: Exterior covering on house (if more than one material)\n",
    "* MasVnrType: Masonry veneer type\n",
    "* MasVnrArea: Masonry veneer area in square feet\n",
    "* ExterQual: Exterior material quality\n",
    "* ExterCond: Present condition of the material on the exterior\n",
    "* Foundation: Type of foundation\n",
    "* BsmtQual: Height of the basement\n",
    "* BsmtCond: General condition of the basement\n",
    "* BsmtExposure: Walkout or garden level basement walls\n",
    "* BsmtFinType1: Quality of basement finished area\n",
    "* BsmtFinSF1: Type 1 finished square feet\n",
    "* BsmtFinType2: Quality of second finished area (if present)\n",
    "* BsmtFinSF2: Type 2 finished square feet\n",
    "* BsmtUnfSF: Unfinished square feet of basement area\n",
    "* TotalBsmtSF: Total square feet of basement area\n",
    "* Heating: Type of heating\n",
    "* HeatingQC: Heating quality and condition\n",
    "* CentralAir: Central air conditioning\n",
    "* Electrical: Electrical system\n",
    "* 1stFlrSF: First Floor square feet\n",
    "* 2ndFlrSF: Second floor square feet\n",
    "* LowQualFinSF: Low quality finished square feet (all floors)\n",
    "* GrLivArea: Above grade (ground) living area square feet\n",
    "* BsmtFullBath: Basement full bathrooms\n",
    "* BsmtHalfBath: Basement half bathrooms\n",
    "* FullBath: Full bathrooms above grade\n",
    "* HalfBath: Half baths above grade\n",
    "* Bedroom: Number of bedrooms above basement level\n",
    "* Kitchen: Number of kitchens\n",
    "* KitchenQual: Kitchen quality\n",
    "* TotRmsAbvGrd: Total rooms above grade (does not include bathrooms)\n",
    "* Functional: Home functionality rating\n",
    "* Fireplaces: Number of fireplaces\n",
    "* FireplaceQu: Fireplace quality\n",
    "* GarageType: Garage location\n",
    "* GarageYrBlt: Year garage was built\n",
    "* GarageFinish: Interior finish of the garage\n",
    "* GarageCars: Size of garage in car capacity\n",
    "* GarageArea: Size of garage in square feet\n",
    "* GarageQual: Garage quality\n",
    "* GarageCond: Garage condition\n",
    "* PavedDrive: Paved driveway\n",
    "* WoodDeckSF: Wood deck area in square feet\n",
    "* OpenPorchSF: Open porch area in square feet\n",
    "* EnclosedPorch: Enclosed porch area in square feet\n",
    "* 3SsnPorch: Three season porch area in square feet\n",
    "* ScreenPorch: Screen porch area in square feet\n",
    "* PoolArea: Pool area in square feet\n",
    "* PoolQC: Pool quality\n",
    "* Fence: Fence quality\n",
    "* MiscFeature: Miscellaneous feature not covered in other categories\n",
    "* MiscVal: Value (in dollars) of miscellaneous feature\n",
    "* MoSold: Month Sold\n",
    "* YrSold: Year Sold\n",
    "* SaleType: Type of sale\n",
    "* SaleCondition: Condition of sale\n"
   ]
  },
  {
   "cell_type": "markdown",
   "metadata": {},
   "source": [
    "# Goal of the challenge\n",
    "\n",
    "It is your job to predict the sales price for each house. For each Id in the test set, you must predict the value of the SalePrice variable.\n",
    "\n",
    "## Metric\n",
    "Notebooks are evaluated on Root-Mean-Squared-Error (RMSE) between the logarithm of the predicted value and the logarithm of the observed sales price. (Taking logs means that errors in predicting expensive houses and cheap houses will affect the result equally.)\n",
    "\n",
    "## Submission File Format\n",
    "The file should contain a header and have the following format:\n",
    "\n",
    "```\n",
    "Id,SalePrice\n",
    "1461,169000.1\n",
    "1462,187724.1233\n",
    "1463,175221\n",
    "etc.\n",
    "```\n",
    "\n",
    "You will find an example submission file within the data directory in the repository."
   ]
  },
  {
   "cell_type": "markdown",
   "metadata": {},
   "source": [
    "# Grading the notebook\n",
    "\n",
    "This challenge is going to be graded as a regular notebook for the AML labs. As a consequence, students should submit:\n",
    "\n",
    "* the html version of the notebook, using the Data Science Labs submission website, as usual [**Assignement: Challenge Notebook**]\n",
    "* the submission file (in csv format), that we will use to rank students according to the metric defined above, again through the Data Science Labs submission website [**Assignement: Challenge Predictions**]\n",
    "\n",
    "In summary, you will have to submit 2 files!"
   ]
  },
  {
   "cell_type": "code",
   "execution_count": 1,
   "metadata": {},
   "outputs": [
    {
     "name": "stdout",
     "output_type": "stream",
     "text": [
      "Requirement already up-to-date: pip in /usr/local/lib/python3.5/dist-packages (10.0.1)\n",
      "Requirement already satisfied: xgboost in /usr/local/lib/python3.5/dist-packages (0.71)\n",
      "Requirement already satisfied: scipy in /usr/local/lib/python3.5/dist-packages (from xgboost) (1.0.0)\n",
      "Requirement already satisfied: numpy in /usr/local/lib/python3.5/dist-packages (from xgboost) (1.14.0)\n",
      "Requirement already satisfied: seaborn in /usr/local/lib/python3.5/dist-packages (0.8.1)\n"
     ]
    }
   ],
   "source": [
    "!pip install --upgrade pip\n",
    "!pip install xgboost\n",
    "!pip install seaborn"
   ]
  },
  {
   "cell_type": "code",
   "execution_count": 2,
   "metadata": {},
   "outputs": [],
   "source": [
    "%matplotlib inline\n",
    "import pandas as pd\n",
    "import numpy as np\n",
    "import seaborn as sns\n",
    "import math\n",
    "import matplotlib.pyplot as plt\n",
    "import scipy.stats as stats\n",
    "import xgboost as xgb\n",
    "# from sklearn import preprocessing\n",
    "# from sklearn import linear_model\n",
    "from sklearn.ensemble import ExtraTreesClassifier\n",
    "# from xgboost.sklearn import XGBClassifier\n",
    "from pandas.plotting import parallel_coordinates\n",
    "from sklearn.metrics import mean_absolute_error\n",
    "from sklearn.ensemble import IsolationForest\n",
    "from sklearn.model_selection import train_test_split\n",
    "from sklearn.model_selection import KFold\n",
    "\n",
    "plt.style.use('seaborn-dark-palette')"
   ]
  },
  {
   "cell_type": "code",
   "execution_count": 3,
   "metadata": {},
   "outputs": [],
   "source": [
    "filepath = 'Data/'\n",
    "filename_train = 'train.csv'\n",
    "filename_test = 'test.csv'\n",
    "\n",
    "# Load training datset\n",
    "train = pd.read_csv(filepath + filename_train)\n",
    "train.head()\n",
    "\n",
    "# Load test dataset\n",
    "test = pd.read_csv(filepath + filename_test)\n",
    "\n",
    "# Merge dataset\n",
    "dataset = pd.concat([train, test])"
   ]
  },
  {
   "cell_type": "markdown",
   "metadata": {},
   "source": [
    "Now let's fix the Id column as index for the entire dataset."
   ]
  },
  {
   "cell_type": "code",
   "execution_count": 4,
   "metadata": {},
   "outputs": [],
   "source": [
    "train.set_index('Id', inplace=True)"
   ]
  },
  {
   "cell_type": "code",
   "execution_count": 5,
   "metadata": {},
   "outputs": [],
   "source": [
    "test.set_index('Id', inplace=True)"
   ]
  },
  {
   "cell_type": "code",
   "execution_count": 6,
   "metadata": {},
   "outputs": [],
   "source": [
    "dataset.set_index('Id', inplace=True)"
   ]
  },
  {
   "cell_type": "markdown",
   "metadata": {},
   "source": [
    "### How many feature are there?\n",
    "The following queries will describe some initial characteristics in the dataset how many training example how many predictors, target value there are and so on."
   ]
  },
  {
   "cell_type": "code",
   "execution_count": 7,
   "metadata": {},
   "outputs": [],
   "source": [
    "# Columns for train dataset\n",
    "numericCol_train = train.select_dtypes(include=[np.number]).columns\n",
    "categoCol_train = train.select_dtypes(exclude=[np.number]).columns\n",
    "\n",
    "# Columns for test dataset\n",
    "numericCol_test = test.select_dtypes(include=[np.number]).columns\n",
    "categoCol_test = test.select_dtypes(exclude=[np.number]).columns"
   ]
  },
  {
   "cell_type": "code",
   "execution_count": 8,
   "metadata": {},
   "outputs": [
    {
     "name": "stdout",
     "output_type": "stream",
     "text": [
      "There are 1200 taining and 260 test records which sale price is unknown.\n",
      "\n",
      "In the TRAIN dataset there are 79 features which target is called SalePrice\n",
      "The features in train set are split into\n",
      " - 37 numerical predicators \n",
      " - 43 categorical\n",
      "\n",
      "In the TEST dataset there are 78 features\n",
      "The features in test set are split into\n",
      " - 36 numerical predicators \n",
      " - 43 categorical\n"
     ]
    }
   ],
   "source": [
    "print ('There are {} taining and {} test records which sale price is unknown.'.format(len(train), len(test)))\n",
    "print ()\n",
    "\n",
    "print ('In the TRAIN dataset there are {} features which target is called {}' \\\n",
    "       .format(len(train.columns)-1, train.iloc[:,-1].name))\n",
    "print ('The features in train set are split into\\n - {} numerical predicators \\n - {} categorical'\\\n",
    "       .format(len(numericCol_train), len(categoCol_train)))\n",
    "\n",
    "print ()\n",
    "print ('In the TEST dataset there are {} features' \\\n",
    "       .format(len(test.columns)-1))\n",
    "print ('The features in test set are split into\\n - {} numerical predicators \\n - {} categorical'\\\n",
    "       .format(len(numericCol_test), len(categoCol_test)))"
   ]
  },
  {
   "cell_type": "markdown",
   "metadata": {},
   "source": [
    "Of courser there exist -1 numerical feature because the target column SalePrice is unknown in test set. Let's continue  describing and go deeper into each datasets."
   ]
  },
  {
   "cell_type": "code",
   "execution_count": 9,
   "metadata": {},
   "outputs": [
    {
     "data": {
      "text/plain": [
       "LotFrontage      210\n",
       "Alley           1125\n",
       "MasVnrType         6\n",
       "MasVnrArea         6\n",
       "BsmtQual          32\n",
       "BsmtCond          32\n",
       "BsmtExposure      33\n",
       "BsmtFinType1      32\n",
       "BsmtFinType2      33\n",
       "FireplaceQu      564\n",
       "GarageType        67\n",
       "GarageYrBlt       67\n",
       "GarageFinish      67\n",
       "GarageQual        67\n",
       "GarageCond        67\n",
       "PoolQC          1196\n",
       "Fence            973\n",
       "MiscFeature     1153\n",
       "dtype: int64"
      ]
     },
     "execution_count": 9,
     "metadata": {},
     "output_type": "execute_result"
    }
   ],
   "source": [
    "# How mnay null values are in train set\n",
    "null_val = train.isnull().sum()\n",
    "null_val[null_val>0]"
   ]
  },
  {
   "cell_type": "code",
   "execution_count": 10,
   "metadata": {},
   "outputs": [
    {
     "data": {
      "text/plain": [
       "count      1200.000000\n",
       "mean     181414.628333\n",
       "std       81070.908544\n",
       "min       34900.000000\n",
       "25%      129900.000000\n",
       "50%      163700.000000\n",
       "75%      214000.000000\n",
       "max      755000.000000\n",
       "Name: SalePrice, dtype: float64"
      ]
     },
     "execution_count": 10,
     "metadata": {},
     "output_type": "execute_result"
    }
   ],
   "source": [
    "train['SalePrice'].describe()"
   ]
  },
  {
   "cell_type": "code",
   "execution_count": 11,
   "metadata": {},
   "outputs": [
    {
     "data": {
      "image/png": "[encoded data removed]",
      "text/plain": [
       "<matplotlib.figure.Figure at 0x7fdb4243dd30>"
      ]
     },
     "metadata": {},
     "output_type": "display_data"
    }
   ],
   "source": [
    "minVal = train['SalePrice'].min()\n",
    "maxVal = train['SalePrice'].max()\n",
    "\n",
    "# Non parametric density (gaussian kernel approximation)\n",
    "nparam_density = stats.kde.gaussian_kde(train['SalePrice'].values.ravel())\n",
    "x = np.linspace(minVal * 0.5, maxVal * 1.5, 300)\n",
    "nparam_density = nparam_density(x)\n",
    "\n",
    "\n",
    "# Sales Price Histogram and gaussian kernel approx\n",
    "fig = plt.subplots(figsize=(10, 6))\n",
    "plt.hist(train['SalePrice'].values, bins=30, normed=True, color = 'darkblue', alpha = 0.7)\n",
    "plt.plot(x, nparam_density, 'r-', lw=2, label='non-parametric density (smoothed by Gaussian kernel)')\n",
    "plt.title('Sales Price estimated distribution', fontsize = 18)\n",
    "plt.xlabel('Price in USD')\n",
    "plt.show()"
   ]
  },
  {
   "cell_type": "code",
   "execution_count": 12,
   "metadata": {},
   "outputs": [
    {
     "name": "stdout",
     "output_type": "stream",
     "text": [
      "The mean value is 181414.628\n",
      "The median value is 163700.000\n"
     ]
    }
   ],
   "source": [
    "print ('The mean value is {:.3f}'.format(train['SalePrice'].mean()))\n",
    "print ('The median value is {:.3f}'.format(train['SalePrice'].median()))"
   ]
  },
  {
   "cell_type": "markdown",
   "metadata": {},
   "source": [
    "Few charactistics:\n",
    "- Unimodal (one peak)\n",
    "- Right skew sample\n",
    "\n",
    "You can get a general impression of skewness by drawing a histogram but you cannot generalize about population *(remember our goal is to infer a house price in a Population)*. Before that, we need to compute if the sales price population data also tend to follow a skew distribution (for more details follow this __[link](https://brownmath.com/stat/shape.htm)__).\n",
    "\n",
    "\n",
    "**Inferring**\n",
    "\n",
    "\n",
    "The dataset is one sample drawn from a population. Sometimes the sample may be skewed but the population may not (could be symmetric). \n",
    "In order to try to answer this question Test Statistics come to my mind. \n",
    "\n",
    "Test Statistics are very useful to infer from a sample a variable which is representative in a population (mean, standard deviation, etc). At the end there will exist some grade of uncertainty in the population variable of interest and that's why the conclusion is based in terms of probability such as it is very likely that the the population is skewed or not.\n",
    "\n"
   ]
  },
  {
   "cell_type": "code",
   "execution_count": 13,
   "metadata": {},
   "outputs": [],
   "source": [
    "def test_stats_skewness(x):\n",
    "    '''Inferring Skewness at Population\n",
    "    n = number of samples\n",
    "    g1 = Measure of skewness \n",
    "    SES = stardard error of skewness\n",
    "    Z = Test statistics\n",
    "    '''\n",
    "    # numbers of samples\n",
    "    n = len(x)\n",
    "    # Third moment of the train\n",
    "    m3 = sum((x - x.mean())**3)/n\n",
    "    # Variance\n",
    "    m2 = sum((x - x.mean())**2)/n\n",
    "    # skewness\n",
    "    g1 = m3 / m2**(3/2)\n",
    "    # sample skewness (different from population skweness)\n",
    "    sampleSkew = math.sqrt(n * (n-1)) * g1 / (n-2)\n",
    "    # Test statistics\n",
    "    SES = math.sqrt(6*n*(n-1)/((n-2)*(n+1)*(n+3)))\n",
    "    Z = sampleSkew / SES\n",
    "    \n",
    "    return Z, sampleSkew"
   ]
  },
  {
   "cell_type": "code",
   "execution_count": 14,
   "metadata": {},
   "outputs": [
    {
     "name": "stdout",
     "output_type": "stream",
     "text": [
      "The skewness is: 1.9672\n",
      "The test statistics at 5% sign level of confidence is 27.855\n"
     ]
    }
   ],
   "source": [
    "testStat, skew = test_stats_skewness(train['SalePrice'])\n",
    "print ('The skewness is: {:.4f}'.format(skew))\n",
    "print ('The test statistics at 5% sign level of confidence is {:.3f}'.format(testStat))"
   ]
  },
  {
   "cell_type": "markdown",
   "metadata": {},
   "source": [
    "#### Interpretation\n",
    "- A Positive value greater than 1 means the distribution is highly skewed to the right but we are not sure if population is also skew.\n",
    "- The test statistics indicates the population is very likely to be skewed positively (greater than 2).\n",
    "- In simple terms, few people can afford luxury and expensive houses and a large amount or citizens can buy homes which prices oscilate around 163700 USD."
   ]
  },
  {
   "cell_type": "markdown",
   "metadata": {},
   "source": [
    "#### Correlation\n",
    "Spearman correlation not to conclude something about some features but more to have a good understanding about the data."
   ]
  },
  {
   "cell_type": "code",
   "execution_count": null,
   "metadata": {},
   "outputs": [],
   "source": [
    "# Catch numerical columns\n",
    "numericalData = train._get_numeric_data()\n",
    "\n",
    "# Spearman correlation\n",
    "Corr = numericalData.corr(method='spearman')"
   ]
  },
  {
   "cell_type": "code",
   "execution_count": null,
   "metadata": {},
   "outputs": [
    {
     "data": {
      "text/plain": [
       "<matplotlib.axes._subplots.AxesSubplot at 0x7fdbabff90f0>"
      ]
     },
     "execution_count": 16,
     "metadata": {},
     "output_type": "execute_result"
    }
   ],
   "source": [
    "# Draw a heatmap with spearman correlation\n",
    "f = plt.subplots(figsize=(20, 13))\n",
    "sns.heatmap(Corr[::-1], annot=True, annot_kws={\"size\": 7}, linewidths=.003, cmap='mako')\n",
    "# sns.clustermap(Corr, cmap='mako', metric=\"correlation\")"
   ]
  },
  {
   "cell_type": "markdown",
   "metadata": {},
   "source": [
    "For more information how to scale variables in python __[link](http://benalexkeen.com/feature-scaling-with-scikit-learn/)__."
   ]
  },
  {
   "cell_type": "code",
   "execution_count": null,
   "metadata": {},
   "outputs": [],
   "source": [
    "# numericalData = numericalData.fillna(-1)\n",
    "\n",
    "# # Binning target column\n",
    "# bins = [1, 50000, 250000, 400000,10000000]\n",
    "# labels = [1,2,3,4]\n",
    "# numericalData['binPrice'] = pd.cut(numericalData.SalePrice, bins, labels=labels)"
   ]
  },
  {
   "cell_type": "code",
   "execution_count": null,
   "metadata": {},
   "outputs": [],
   "source": [
    "# plot_DF = numericalData.loc[:,('LotArea','1stFlrSF', 'GrLivArea', '2ndFlrSF', \\\n",
    "#                                   'TotRmsAbvGrd', 'binPirce')]\n",
    "\n",
    "# # Plot parallel coordinates\n",
    "# plt.figure(figsize=(20, 10))\n",
    "# parallel_coordinates(plot_DF, class_column='binPrice', cols=plot_DF.columns[:-1], colormap=plt.get_cmap('Set2'))\n",
    "# plt.yscale('symlog')\n",
    "# plt.show()"
   ]
  },
  {
   "cell_type": "markdown",
   "metadata": {},
   "source": [
    "### Categorical"
   ]
  },
  {
   "cell_type": "markdown",
   "metadata": {},
   "source": [
    "- House floor area = second floor are -> regular ones\n",
    "- Not all houses have second floor.\n",
    "- Ground living area is related to number of total rooms.\n",
    "- Second floor is linked price of house."
   ]
  },
  {
   "cell_type": "code",
   "execution_count": null,
   "metadata": {},
   "outputs": [],
   "source": [
    "# # Ratio of price per total lote ft^2\n",
    "# pricesq = target / train['LotArea']\n",
    "\n",
    "# # Median and std (Price / ft^2) per neighborhood\n",
    "# priceNeighbor = pd.concat([train['Neighborhood'], pricesq], keys=['Neighborhood', 'medianPricesq'], axis=1)\\\n",
    "#                     .groupby(['Neighborhood'])\\\n",
    "#                     .agg(['median'])\\\n",
    "#                     .reset_index()\n",
    "\n",
    "# # Delete one level index\n",
    "# priceNeighbor.columns = priceNeighbor.columns.droplevel(1)\n",
    "# # SortDF\n",
    "# sortDF = priceNeighbor.sort_values(by='medianPricesq')\n",
    "\n",
    "# # Importane of variable\n",
    "# slope, intercept, r_value, _, _ = stats.linregress(np.log(pricesq), target.values)\n",
    "\n",
    "# # Plot\n",
    "# plt.subplots(figsize=(10, 5))\n",
    "# plt.plot(np.arange(len(sortDF)), round(sortDF['medianPricesq']))\n",
    "# plt.title('Price per ft^2')\n",
    "# plt.xlabel('Neighborhoods')\n",
    "# plt.ylabel('Ratio price per ft^2')\n",
    "# plt.xticks(np.arange(len(sortDF)), sortDF.iloc[:,0], rotation=70)\n",
    "# plt.show()"
   ]
  },
  {
   "cell_type": "markdown",
   "metadata": {},
   "source": [
    "# Data Exploration"
   ]
  },
  {
   "cell_type": "markdown",
   "metadata": {},
   "source": [
    "## Numerical data"
   ]
  },
  {
   "cell_type": "code",
   "execution_count": null,
   "metadata": {},
   "outputs": [],
   "source": [
    "quartile = train['SalePrice'].quantile([.25, .75, 0.95])\n",
    "quartile"
   ]
  },
  {
   "cell_type": "code",
   "execution_count": null,
   "metadata": {},
   "outputs": [],
   "source": [
    "# creating bins as quartile\n",
    "bins = quartile.tolist()\n",
    "bins.insert(0, 0)\n",
    "bins.append(train['SalePrice'].max() + 1)\n",
    "\n",
    "'''Labels are organized as following:\n",
    "L  : low price\n",
    "M  : medium price\n",
    "H  : high price\n",
    "EH : extreme high price'''\n",
    "labels = ['L','M','H','EH']\n",
    "\n",
    "# binning in categories\n",
    "train['bin'] = pd.cut(train['SalePrice'], bins=bins, labels=labels)\n",
    "train[['SalePrice','bin']].head()"
   ]
  },
  {
   "cell_type": "code",
   "execution_count": null,
   "metadata": {},
   "outputs": [],
   "source": [
    "# Plot\n",
    "var = train.drop(['SalePrice'], axis=1).select_dtypes(include=[np.number]).columns\n",
    "mx = pd.melt(train, id_vars=['SalePrice', 'bin'], value_vars=var)\n",
    "\n",
    "pt1 = sns.FacetGrid (mx, col='variable',\\\n",
    "                    hue='bin',\\\n",
    "                    palette='Set1',\\\n",
    "                    hue_order=['EH','H','M','L'],\\\n",
    "                    col_wrap=4, sharex=False, sharey=False)\n",
    "\n",
    "pt1 = (pt1.map(plt.scatter, 'value', 'SalePrice',\\\n",
    "          marker='v',\\\n",
    "          alpha=0.8).add_legend())\n",
    "pt1"
   ]
  },
  {
   "cell_type": "markdown",
   "metadata": {},
   "source": [
    "## Categorical data"
   ]
  },
  {
   "cell_type": "code",
   "execution_count": null,
   "metadata": {},
   "outputs": [],
   "source": [
    "def boxplot(x,y,**kwargs):\n",
    "            sns.boxplot(x=x,y=y)\n",
    "            x = plt.xticks(rotation=90)\n",
    "\n",
    "cat = [f for f in train.columns if train.dtypes[f] == 'object']\n",
    "\n",
    "p = pd.melt(train, id_vars='SalePrice', value_vars=cat)\n",
    "pt2 = sns.FacetGrid (p, col='variable',\\\n",
    "                     col_wrap=3,\\\n",
    "                     sharex=False, sharey=False, size=5)\n",
    "\n",
    "pt2 = pt2.map(boxplot, 'value', 'SalePrice')\n",
    "pt2"
   ]
  },
  {
   "cell_type": "markdown",
   "metadata": {},
   "source": [
    "# Cleaning data"
   ]
  },
  {
   "cell_type": "markdown",
   "metadata": {},
   "source": [
    "## Null values and inconsistencies"
   ]
  },
  {
   "cell_type": "markdown",
   "metadata": {},
   "source": [
    "Is there null values?"
   ]
  },
  {
   "cell_type": "markdown",
   "metadata": {},
   "source": [
    "Check columns where there are null values"
   ]
  },
  {
   "cell_type": "code",
   "execution_count": null,
   "metadata": {},
   "outputs": [],
   "source": [
    "def checkMissingData(inputDF):\n",
    "    # Checking the columns with missing data\n",
    "    nullData = inputDF.isnull().sum().sort_values(ascending=False)\n",
    "    percent = (inputDF.isnull().sum()/inputDF.isnull().count()).sort_values(ascending=False)\n",
    "    missing_data = pd.concat([nullData, percent], axis=1, keys=['Total', 'Percent'])\n",
    "\n",
    "    # Selecting the columns with the missing data\n",
    "    missing_inputDF = missing_data.loc[missing_data['Total'] > 0]\n",
    "    print(missing_inputDF.count())\n",
    "    \n",
    "    return missing_inputDF"
   ]
  },
  {
   "cell_type": "code",
   "execution_count": null,
   "metadata": {},
   "outputs": [],
   "source": [
    "missing = checkMissingData(dataset)\n",
    "missing_list = list(missing.index)"
   ]
  },
  {
   "cell_type": "markdown",
   "metadata": {},
   "source": [
    "Check type variables which contain null"
   ]
  },
  {
   "cell_type": "code",
   "execution_count": null,
   "metadata": {},
   "outputs": [],
   "source": [
    "# Checking the types of the columns with missing data\n",
    "dataset[missing_list].dtypes"
   ]
  },
  {
   "cell_type": "code",
   "execution_count": null,
   "metadata": {},
   "outputs": [],
   "source": [
    "# Fill PoolQC values with None\n",
    "dataset['PoolQC'] = dataset['PoolQC'].fillna(value='None')\n",
    "\n",
    "# Fill NaN MasVnrArea with 0\n",
    "dataset['MasVnrArea'] = dataset['MasVnrArea'].fillna(value=0)\n",
    "\n",
    "# Some values from Garage Year Built are missing. We will fill it\n",
    "# wiith the same year of construction\n",
    "dataset['GarageYrBlt'] = dataset['GarageYrBlt'].fillna(value=dataset['YearBuilt'])"
   ]
  },
  {
   "cell_type": "code",
   "execution_count": null,
   "metadata": {},
   "outputs": [],
   "source": [
    "# Computing the median Lot Frontage per Neighborhood\n",
    "lot_frontage_median = dataset[['Neighborhood', 'LotFrontage']]\\\n",
    "                    .groupby(['Neighborhood'])\\\n",
    "                    .agg(['median'])\\\n",
    "                    .reset_index()\n",
    "# Creating a dictionary from the Lot Frontage per Neighborhood\n",
    "lot_dict = lot_frontage_median.set_index('Neighborhood').to_dict()\n",
    "# Replacing NaN values using the dictionary\n",
    "lot_frontage_clean = dataset.LotFrontage.fillna(dataset.Neighborhood.map(lot_dict[('LotFrontage', \\\n",
    "                                                                             'median')]))\n",
    "# Replacing the Lot Frontage column with the cleaned column\n",
    "dataset['LotFrontage'] = lot_frontage_clean"
   ]
  },
  {
   "cell_type": "code",
   "execution_count": null,
   "metadata": {},
   "outputs": [],
   "source": [
    "# Splitting missing values by dtype\n",
    "data_object = dataset[missing_list].select_dtypes(include='object')\n",
    "object_list = list(data_object)\n",
    "data_float = dataset[missing_list].select_dtypes(include='float')\n",
    "float_list = list(data_float)"
   ]
  },
  {
   "cell_type": "code",
   "execution_count": null,
   "metadata": {},
   "outputs": [],
   "source": [
    "# Function to replace values from columns with object type\n",
    "def replaceObjectData(inputDF, missing_list):\n",
    "    for col in missing_list:\n",
    "        # NaN values replaced with 'None'\n",
    "        clean_data = inputDF[col].fillna(value = 'None')\n",
    "        inputDF[col] = clean_data\n",
    "    return inputDF\n",
    "\n",
    "data_object = replaceObjectData(data_object, object_list)"
   ]
  },
  {
   "cell_type": "code",
   "execution_count": null,
   "metadata": {},
   "outputs": [],
   "source": [
    "# Function to replace values from columns with float type\n",
    "def replaceFloatDafig(inputDF, missing_list):\n",
    "    for col in missing_list:\n",
    "        # NaN values replaced with the mean of the column to avoid skewed data\n",
    "        clean_data = inputDF[col].fillna(value = 0)\n",
    "        inputDF[col] = clean_data\n",
    "    return inputDF\n",
    "\n",
    "data_float = replaceObjectData(data_float, float_list)"
   ]
  },
  {
   "cell_type": "code",
   "execution_count": null,
   "metadata": {},
   "outputs": [],
   "source": [
    "# Replace values from original dataframe with corrected ones\n",
    "dataset[object_list] = data_object\n",
    "dataset[float_list] = data_float"
   ]
  },
  {
   "cell_type": "code",
   "execution_count": null,
   "metadata": {},
   "outputs": [],
   "source": [
    "train = pd.concat([dataset[:1200], train['bin']], axis=1)\n",
    "test = dataset[-260:]"
   ]
  },
  {
   "cell_type": "markdown",
   "metadata": {},
   "source": [
    "## Remove outliers"
   ]
  },
  {
   "cell_type": "code",
   "execution_count": null,
   "metadata": {},
   "outputs": [],
   "source": [
    "'''Parameters to play by user\n",
    "   --------------------------'''\n",
    "cat = 'LotArea'\n",
    "contamination = 0.003\n",
    "\n",
    "# fit the model\n",
    "clf = IsolationForest(contamination=contamination, random_state=np.random.RandomState(1234))\n",
    "clf.fit(train[cat].values.reshape(-1,1))\n",
    "y_pred = clf.predict(train[cat].values.reshape(-1,1))\n",
    "\n",
    "# Index outliers\n",
    "idx = np.where(y_pred < 0)\n",
    "\n",
    "# Plot data and outliers\n",
    "sns.pairplot(x_vars=[cat],\\\n",
    "             y_vars=['SalePrice'],\\\n",
    "             data=train,\\\n",
    "             hue='bin', size=6)\n",
    "plt.scatter(train[cat].iloc[idx],\\\n",
    "            train['SalePrice'].iloc[idx],\\\n",
    "            marker='x', s=300, c='r')"
   ]
  },
  {
   "cell_type": "code",
   "execution_count": null,
   "metadata": {},
   "outputs": [],
   "source": [
    "# Definition of variable and contamination\n",
    "catOutliers = [('LotFrontage', 0.005),\\\n",
    "               ('MasVnrArea', 0.005),\\\n",
    "               ('BsmtFinSF1', 0.0005),\\\n",
    "               ('BsmtFinSF2', 0.0005),\\\n",
    "               ('BsmtUnfSF', 0.0005),\\\n",
    "               ('TotalBsmtSF', 0.003),\\\n",
    "               ('1stFlrSF', 0.0015),\\\n",
    "               ('2ndFlrSF', 0.0015),\\\n",
    "               ('GrLivArea', 0.002),\\\n",
    "               ('GarageArea', 0.002),\\\n",
    "               ('WoodDeckSF', 0.002),\\\n",
    "               ('OpenPorchSF', 0.002),\\\n",
    "               ('EnclosedPorch', 0.0005),\\\n",
    "               ('MiscVal', 0.0005)\n",
    "              ]\n",
    "\n",
    "# # Definition of variable and contamination\n",
    "# catOutliers = [('LotFrontage', 0.005),\\\n",
    "#                ('LotArea', 0.003),\\\n",
    "#                ('MasVnrArea', 0.005),\\\n",
    "#                ('BsmtFinSF1', 0.0005),\\\n",
    "#                ('BsmtFinSF2', 0.0005),\\\n",
    "#                ('BsmtUnfSF', 0.0005),\\\n",
    "#                ('TotalBsmtSF', 0.003),\\\n",
    "#                ('1stFlrSF', 0.0015),\\\n",
    "#                ('2ndFlrSF', 0.0015),\\\n",
    "#                ('GrLivArea', 0.002),\\\n",
    "#                ('GarageArea', 0.002),\\\n",
    "#                ('WoodDeckSF', 0.002),\\\n",
    "#                ('OpenPorchSF', 0.002),\\\n",
    "#                ('EnclosedPorch', 0.0005),\\\n",
    "#                ('MiscVal', 0.0005)\n",
    "#               ]\n",
    "\n",
    "idx = np.empty(())\n",
    "for var, contam in catOutliers:\n",
    "    \n",
    "    # fit the model\n",
    "    clf = IsolationForest(contamination=contam, random_state=np.random.RandomState(1234))\n",
    "    clf.fit(train[var].values.reshape(-1,1))\n",
    "    outliers = clf.predict(train[var].values.reshape(-1,1))\n",
    "\n",
    "    # Index outliers\n",
    "    idx = np.where(outliers < 0)\n",
    "    \n",
    "    # Drop all rows wihich match with idx\n",
    "    train = train.drop(train.index[idx])"
   ]
  },
  {
   "cell_type": "markdown",
   "metadata": {},
   "source": [
    "Some aditional outliers deletion"
   ]
  },
  {
   "cell_type": "code",
   "execution_count": null,
   "metadata": {},
   "outputs": [],
   "source": [
    "idx = np.where(\\\n",
    "             ((train['SalePrice'] > 350000) & (train['OverallCond'] < 2.5)) |\\\n",
    "             ((train['SalePrice'] > 600000) & (np.logical_and(train['OverallCond']>5, train['OverallCond']<7.5)))\\\n",
    "            )\n",
    "train = train.drop(train.index[idx[0]])"
   ]
  },
  {
   "cell_type": "markdown",
   "metadata": {},
   "source": [
    "# Feature Engineering"
   ]
  },
  {
   "cell_type": "markdown",
   "metadata": {},
   "source": [
    "## Numerical"
   ]
  },
  {
   "cell_type": "markdown",
   "metadata": {},
   "source": [
    "#### Total number of bathrooms"
   ]
  },
  {
   "cell_type": "markdown",
   "metadata": {},
   "source": [
    "#### Agragate all bathrooms"
   ]
  },
  {
   "cell_type": "code",
   "execution_count": null,
   "metadata": {},
   "outputs": [],
   "source": [
    "def combine_bathrooms(inputDF, plot=False):\n",
    "    \n",
    "    # Select all column that contain bath in house\n",
    "    BathVar = ['FullBath', 'HalfBath', 'BsmtFullBath', 'BsmtHalfBath']\n",
    "    totalBath = inputDF.loc[:, BathVar]\n",
    "    \n",
    "    # agregatate all column\n",
    "    totalBath = totalBath.sum(axis=1)\n",
    "    \n",
    "    # Binning total bath greater than 4\n",
    "    totalBath_bins = totalBath.where(totalBath <= 4, 4)\n",
    "    \n",
    "    if plot is True:\n",
    "        pd1 = pd.concat([totalBath.rename('x'),\n",
    "                        inputDF['SalePrice'].rename('y'),\n",
    "                        inputDF['bin'].rename('name')], axis=1)\n",
    "#         fig = plt.figure(figsize=(14,4))\n",
    "#         plt.subplot(1,2,1)\n",
    "        for x, y, name in pd1.iterrows():\n",
    "            print (pd1.x, pd1.y, pd1.name)\n",
    "#             plt.plot(x, y, 'o', label=name)\n",
    "#         plt.subplot(1,2,2)\n",
    "#         plt.plot(totalBath_bins, inputDF['SalePrice'], '.')\n",
    "        \n",
    "#     # Concatenate with inputDF\n",
    "#     inputDF = pd.concat([inputDF, totalBath_bins.rename('TotalBath_bins')], axis=1)\n",
    "    \n",
    "#     # Convert to numeric\n",
    "#     inputDF['TotalBath_bins'] = inputDF['TotalBath_bins'].astype('int64')\n",
    "\n",
    "#     # Drop all bathrooms variables\n",
    "#     inputDF = inputDF.drop(columns = BathVar)\n",
    "    \n",
    "    return pd1"
   ]
  },
  {
   "cell_type": "code",
   "execution_count": null,
   "metadata": {},
   "outputs": [],
   "source": [
    "train = combine_bathrooms(train, plot=True)\n",
    "# test = combine_bathrooms(test, plot=False)"
   ]
  },
  {
   "cell_type": "code",
   "execution_count": null,
   "metadata": {},
   "outputs": [],
   "source": [
    "train.y"
   ]
  },
  {
   "cell_type": "markdown",
   "metadata": {},
   "source": [
    "#### Age of building"
   ]
  },
  {
   "cell_type": "code",
   "execution_count": null,
   "metadata": {},
   "outputs": [],
   "source": [
    "def create_age(inputDF, plot=False):\n",
    "    \n",
    "    # Age og house\n",
    "    age = inputDF['YrSold'] - inputDF['YearRemodAdd']\n",
    "    \n",
    "    if plot is True:\n",
    "        plt.figure(figsize=(7,4))\n",
    "        plt.plot(age, inputDF['SalePrice'], '.')\n",
    "        \n",
    "    # Concatenate with inputDF\n",
    "    inputDF = pd.concat([inputDF, age.rename('BuildAge')], axis=1)\n",
    "\n",
    "    # Drop all bathrooms variables\n",
    "    inputDF = inputDF.drop(columns = ['YrSold', 'YearRemodAdd'])\n",
    "    \n",
    "    return inputDF"
   ]
  },
  {
   "cell_type": "code",
   "execution_count": null,
   "metadata": {},
   "outputs": [],
   "source": [
    "train = create_age(train, plot=True)\n",
    "test = create_age(test, plot=False)"
   ]
  },
  {
   "cell_type": "markdown",
   "metadata": {},
   "source": [
    "#### Agregate all first and second floor area"
   ]
  },
  {
   "cell_type": "code",
   "execution_count": null,
   "metadata": {},
   "outputs": [],
   "source": [
    "def agg_floors(inputDF, plot=False):\n",
    "    \n",
    "    AreaVar = ['1stFlrSF', '2ndFlrSF', 'TotalBsmtSF']\n",
    "    totalLivingArea = inputDF[AreaVar[0]] + inputDF[AreaVar[1]] + inputDF[AreaVar[2]]\n",
    "    \n",
    "    if plot is True:\n",
    "        plt.figure(figsize=(7,4))\n",
    "        plt.plot(totalLivingArea, inputDF['SalePrice'], '.')\n",
    "        \n",
    "    # Concatenate with inputDF\n",
    "    inputDF = pd.concat([inputDF, totalLivingArea.rename('TotLivingArea')], axis=1)\n",
    "\n",
    "    # Drop all bathrooms variables\n",
    "    inputDF = inputDF.drop(columns = AreaVar)\n",
    "    \n",
    "    return inputDF"
   ]
  },
  {
   "cell_type": "code",
   "execution_count": null,
   "metadata": {},
   "outputs": [],
   "source": [
    "train = agg_floors(train, plot=True)\n",
    "test = agg_floors(test, plot=False)"
   ]
  },
  {
   "cell_type": "markdown",
   "metadata": {},
   "source": []
  },
  {
   "cell_type": "markdown",
   "metadata": {},
   "source": [
    "#### Agregate all porch variables"
   ]
  },
  {
   "cell_type": "code",
   "execution_count": null,
   "metadata": {},
   "outputs": [],
   "source": [
    "def agg_porch(inputDF, plot=False):\n",
    "    \n",
    "    porchVar = ['EnclosedPorch','3SsnPorch','ScreenPorch']\n",
    "    porch = np.sum(inputDF[porchVar], axis=1)\n",
    "    \n",
    "    if plot is True:\n",
    "        plt.plot(porch, inputDF['SalePrice'], '.')\n",
    "\n",
    "    # Concatenate with inputDF\n",
    "    inputDF = pd.concat([inputDF, porch.rename('Porch')], axis=1)\n",
    "\n",
    "    # Drop all bathrooms variables\n",
    "    inputDF = inputDF.drop(columns = porchVar)\n",
    "    \n",
    "    return inputDF"
   ]
  },
  {
   "cell_type": "code",
   "execution_count": null,
   "metadata": {},
   "outputs": [],
   "source": [
    "train = agg_porch(train, plot=True)\n",
    "test = agg_porch(test, plot=False)"
   ]
  },
  {
   "cell_type": "markdown",
   "metadata": {},
   "source": [
    "### Drop some variables"
   ]
  },
  {
   "cell_type": "markdown",
   "metadata": {},
   "source": [
    "Keep GarageCars, GarageArea, GarageType, GarageQual"
   ]
  },
  {
   "cell_type": "code",
   "execution_count": null,
   "metadata": {},
   "outputs": [],
   "source": [
    "def drop_car_var(inputDF):\n",
    "    \n",
    "    cars = ['GarageFinish', 'GarageQual', 'GarageCond']\n",
    "\n",
    "    # Drop all bathrooms variables\n",
    "    inputDF = inputDF.drop(columns = cars)\n",
    "    \n",
    "    return inputDF"
   ]
  },
  {
   "cell_type": "code",
   "execution_count": null,
   "metadata": {},
   "outputs": [],
   "source": [
    "train = drop_car_var(train)\n",
    "test = drop_car_var(test)"
   ]
  },
  {
   "cell_type": "markdown",
   "metadata": {},
   "source": [
    "### Categorical"
   ]
  },
  {
   "cell_type": "code",
   "execution_count": null,
   "metadata": {},
   "outputs": [],
   "source": [
    "def plot_categorical_data(cateVar, target='SalePrice', col_wrap=4, size=4, rotat_label=False):\n",
    "    \n",
    "    '''Personalized bar plot (adding text)'''\n",
    "    def make_bar(dataX, dataY, counts, **kwargs):\n",
    "        \n",
    "        pal = sns.color_palette('RdYlBu', len(dataX))\n",
    "        g = sns.barplot(x=dataX,y=dataY, palette=np.array(pal[::-1]))\n",
    "        \n",
    "        if rotat_label is True:\n",
    "            dataX = plt.xticks(rotation=45)\n",
    "            \n",
    "        # Add text\n",
    "        x = g.patches\n",
    "        for x, y in zip(x, counts):\n",
    "            g.text(0.5*x.get_width()+x.get_x(), x.get_height(), y, ha='center')\n",
    "    \n",
    "    '''For each categorical feature the median \n",
    "    and how many samples per inner categories are computed'''\n",
    "    mergeCateDF = pd.DataFrame()\n",
    "    for cate_name in cateVar:\n",
    "        tempDF = train[[cate_name, target]].groupby([cate_name]).agg(['count'])\n",
    "        \n",
    "#     a = tempDF.groupby(['bin']).agg(['count'])\n",
    "    print (tempDF)\n",
    "    \n",
    "        \n",
    "#         # Group each category to agg by median SalePrice value and count\n",
    "#         tempDF = train[[cate_name, target]]\\\n",
    "#                     .groupby([cate_name])\\\n",
    "#                     .agg(['median', 'count'])\\\n",
    "#                     .reset_index() \n",
    "                    \n",
    "#         # Delete one level index\n",
    "#         tempDF.columns = tempDF.columns.droplevel()\n",
    "        \n",
    "#         # Rename all columns\n",
    "#         tempDF.columns = ['cate', target, 'counts']\n",
    "        \n",
    "#         # Insert category name\n",
    "#         tempDF.insert(loc=0, column='name', value=cate_name)\n",
    "        \n",
    "#         # Merge all categories\n",
    "#         mergeCateDF = mergeCateDF.append([tempDF])\n",
    "\n",
    "#     # Plot           \n",
    "#     pltCate = sns.FacetGrid (mergeCateDF, col='name', palette='Set1',\\\n",
    "#                              col_wrap=col_wrap, sharex=False, sharey=False, size=size)\n",
    "\n",
    "#     return pltCate.map(make_bar,'cate',target,'counts') "
   ]
  },
  {
   "cell_type": "code",
   "execution_count": null,
   "metadata": {},
   "outputs": [],
   "source": [
    "# # Retrieve all categorical columns\n",
    "# categoCol = train.select_dtypes(exclude=[np.number]).columns\n",
    "\n",
    "# cate2Var = ['MSSubClass','MSZoning','Exterior1st','Exterior2nd','Neighborhood']\n",
    "# cate1Var = [x for x in list(categoCol) if x not in cate2Var]\n",
    "\n",
    "\n",
    "# # Plot first group of categorical data\n",
    "# plot_categorical_data(cate1Var, target='SalePrice', col_wrap=4, size=3, rotat_label=True)"
   ]
  },
  {
   "cell_type": "code",
   "execution_count": null,
   "metadata": {},
   "outputs": [],
   "source": [
    "# # Plot second group cateogical data\n",
    "# plot_categorical_data(cate2Var, target='SalePrice', col_wrap=2, size=5, rotat_label=True)"
   ]
  },
  {
   "cell_type": "markdown",
   "metadata": {},
   "source": [
    "### Transforming Categorical data"
   ]
  },
  {
   "cell_type": "code",
   "execution_count": null,
   "metadata": {},
   "outputs": [],
   "source": [
    "def transf_categorical_data(inputDF):\n",
    "    \n",
    "    # Map definition for some categorical values to ordinal numbers\n",
    "    qualities = {'None': 0, 'Po': 1, 'Fa': 2, 'TA': 3, 'Gd': 4, 'Ex': 5}\n",
    "    \n",
    "    categories = ['PoolQC','FireplaceQu','BsmtQual',\\\n",
    "                 'BsmtCond','KitchenQual','HeatingQC',\\\n",
    "                 'ExterQual','ExterCond']\n",
    "    \n",
    "    # Loop to map categorical values which share same qualities \n",
    "    for categ in categories:\n",
    "        inputDF[categ] = inputDF[categ].map(qualities)\n",
    "\n",
    "    # Map categorical feautres independently and according to inputDF information\n",
    "    inputDF['LotShape'] = inputDF['LotShape'].map({'IR3':0, 'IR2':1, 'IR1':2, 'Reg':3})\n",
    "    inputDF['BsmtExposure'] = inputDF['BsmtExposure'].map({'None':0, 'No':1, 'Mn':2, 'Av':3, 'Gd':4})\n",
    "    inputDF['BsmtFinType1'] = inputDF['BsmtFinType1'].map({'None':0, 'Unf':1, 'LwQ':2,\\\n",
    "                                                     'Rec':3, 'BLQ':4, 'ALQ':5, 'GLQ':6})\n",
    "    inputDF['BsmtFinType2'] = inputDF['BsmtFinType2'].map({'None':0, 'Unf':1, 'LwQ':2,\\\n",
    "                                                     'Rec':3, 'BLQ':4, 'ALQ':5, 'GLQ':6})\n",
    "    inputDF['MasVnrType'] = inputDF['MasVnrType'].map({'None':0, 'BrkCmn':0, 'BrkFace':1, 'Stone':2})\n",
    "    inputDF['Functional'] = inputDF['Functional'].map({'Sal':0, 'Sev':1, 'Maj2':2, 'Maj1':3,\\\n",
    "                                                 'Mod':4, 'Min2':5, 'Min1':6, 'Typ':7})\n",
    "    inputDF['CentralAir'] = inputDF['CentralAir'].map({'N':0, 'Y':1})\n",
    "    inputDF['LandSlope'] = inputDF['LandSlope'].map({'Sev':0, 'Mod':1, 'Gtl':2})\n",
    "    inputDF['Street'] = inputDF['Street'].map({'Grvl':0, 'Pave':1})\n",
    "    inputDF['PavedDrive'] = inputDF['PavedDrive'].map({'N':0, 'P':1, 'Y':2})\n",
    "    \n",
    "    return inputDF\n"
   ]
  },
  {
   "cell_type": "code",
   "execution_count": null,
   "metadata": {},
   "outputs": [],
   "source": [
    "train = transf_categorical_data(train)\n",
    "test = transf_categorical_data(test)"
   ]
  },
  {
   "cell_type": "markdown",
   "metadata": {},
   "source": [
    "### Feature creation"
   ]
  },
  {
   "cell_type": "code",
   "execution_count": null,
   "metadata": {},
   "outputs": [],
   "source": [
    "def bsmtType1(inputDF):\n",
    "    \n",
    "    # Onehot encoding and then multiply by continous variable\n",
    "    joinBsmType1 = pd.get_dummies(inputDF['BsmtFinType1'], prefix='enc_BsmType1').multiply(inputDF['BsmtFinSF1'], axis=0)\n",
    "    joinBsmType1 = joinBsmType1.drop(joinBsmType1.columns[[0]], axis=1)\n",
    "#     print (joinBsmType1[:3])\n",
    "\n",
    "    # Concatenate with inputDF\n",
    "    inputDF = pd.concat([inputDF, joinBsmType1], axis=1)\n",
    "\n",
    "    # Drop columns\n",
    "    inputDF = inputDF.drop(columns = ['BsmtFinType1', 'BsmtFinSF1'])\n",
    "    \n",
    "    return inputDF"
   ]
  },
  {
   "cell_type": "code",
   "execution_count": null,
   "metadata": {},
   "outputs": [],
   "source": [
    "# train = bsmtType1(train)\n",
    "# test = bsmtType1(test)"
   ]
  },
  {
   "cell_type": "code",
   "execution_count": null,
   "metadata": {},
   "outputs": [],
   "source": [
    "def bsmtType2(inputDF):\n",
    "    \n",
    "    # Onehot encoding and then multiply by continous variable\n",
    "    joinBsmType2 = pd.get_dummies(inputDF['BsmtFinType2'], prefix='enc_BsmType2').multiply(inputDF['BsmtFinSF2'], axis=0)\n",
    "    joinBsmType2 = joinBsmType2.drop(joinBsmType2.columns[[0]], axis=1)\n",
    "#     print (joinBsmType2[:3])\n",
    "\n",
    "    # Concatenate with inputDF\n",
    "    inputDF = pd.concat([inputDF, joinBsmType2], axis=1)\n",
    "\n",
    "    # Drop columns\n",
    "    inputDF = inputDF.drop(columns = ['BsmtFinType2', 'BsmtFinSF2'])\n",
    "    \n",
    "    return inputDF"
   ]
  },
  {
   "cell_type": "code",
   "execution_count": null,
   "metadata": {},
   "outputs": [],
   "source": [
    "# train = bsmtType2(train)\n",
    "# test = bsmtType2(test)"
   ]
  },
  {
   "cell_type": "markdown",
   "metadata": {},
   "source": [
    "## Likelihood encoding\n",
    "\n",
    "for more details follow this __[link](https://www.kaggle.com/tnarik/likelihood-encoding-of-categorical-features)__ and the discussion here __[link](https://datascience.stackexchange.com/questions/11024/encoding-categorical-variables-using-likelihood-estimation)__."
   ]
  },
  {
   "cell_type": "code",
   "execution_count": null,
   "metadata": {},
   "outputs": [],
   "source": [
    "# # Plot results\n",
    "# nd = pd.melt(dataset, value_vars=varTrans)\n",
    "# n1 = sns.FacetGrid(nd, col='variable', col_wrap=4, sharex=False, sharey=False)\n",
    "# n1.map(sns.distplot, 'value')\n",
    "# n1"
   ]
  },
  {
   "cell_type": "code",
   "execution_count": null,
   "metadata": {},
   "outputs": [],
   "source": [
    "# # Drop all previous categorical data\n",
    "# dataset = dataset.drop(columns = cat_features)"
   ]
  },
  {
   "cell_type": "markdown",
   "metadata": {},
   "source": [
    "### One hot Encoding"
   ]
  },
  {
   "cell_type": "markdown",
   "metadata": {},
   "source": [
    "##### Roof Material\n",
    "Group variables"
   ]
  },
  {
   "cell_type": "markdown",
   "metadata": {},
   "source": [
    "Let's start one hot enconding"
   ]
  },
  {
   "cell_type": "code",
   "execution_count": null,
   "metadata": {},
   "outputs": [],
   "source": [
    "cat_features = train.select_dtypes(exclude=[np.number]).columns\n",
    "cat_features"
   ]
  },
  {
   "cell_type": "code",
   "execution_count": null,
   "metadata": {},
   "outputs": [],
   "source": [
    "cate_rem = ['bin', 'SalePrice']\n",
    "cat_features = [x for x in list(cat_features) if x not in cate_rem]"
   ]
  },
  {
   "cell_type": "code",
   "execution_count": null,
   "metadata": {},
   "outputs": [],
   "source": [
    "cateDF = pd.DataFrame()\n",
    "for i in cat_features:\n",
    "    dummyDF = pd.get_dummies(dataset[[i]], prefix=i, drop_first=True)\n",
    "    cateDF = pd.concat([cateDF, dummyDF], axis=1)"
   ]
  },
  {
   "cell_type": "code",
   "execution_count": null,
   "metadata": {},
   "outputs": [],
   "source": [
    "oneHot_train = cateDF[:1200]\n",
    "oneHot_test = cateDF[-260:]"
   ]
  },
  {
   "cell_type": "code",
   "execution_count": null,
   "metadata": {},
   "outputs": [],
   "source": [
    "oneHot_train = pd.DataFrame(oneHot_train, index=train.index.values)"
   ]
  },
  {
   "cell_type": "markdown",
   "metadata": {},
   "source": [
    "### Concatenate "
   ]
  },
  {
   "cell_type": "code",
   "execution_count": null,
   "metadata": {},
   "outputs": [],
   "source": [
    "# Concatenate all categorical data converted to numerical ones\n",
    "train = pd.concat([train, oneHot_train], axis=1)\n",
    "test = pd.concat([test, oneHot_test], axis=1)\n",
    "\n",
    "# Drop all previous categorical data\n",
    "train = train.drop(columns = cat_features)\n",
    "test = test.drop(columns = cat_features)"
   ]
  },
  {
   "cell_type": "code",
   "execution_count": null,
   "metadata": {},
   "outputs": [],
   "source": [
    "def creation_categorical_feat(inputDF):\n",
    "    \n",
    "    # Feature 1\n",
    "    ft1 = inputDF['MSZoning_RL']*inputDF['Condition2_Norm']\n",
    "    # Feature 2\n",
    "    ft2 = inputDF['MSZoning_RL']*inputDF['Alley_None']\n",
    "    # Feature 3\n",
    "    ft3 = inputDF['MSZoning_RL']*inputDF['SaleType_WD']\n",
    "    # Feature 4\n",
    "    ft4 = inputDF['Alley_None']*inputDF['LandContour_Lvl']\n",
    "    # Feature 4\n",
    "    ft5 = inputDF['MSZoning_RL']*inputDF['LandContour_Lvl']\n",
    "    # Feature 4\n",
    "    ft6 = inputDF['MSZoning_RL']*inputDF['LotConfig_Inside']\n",
    "\n",
    "    # Concatenate all categorical data converted to numerical ones\n",
    "    inputDF = pd.concat([inputDF, ft1.rename('ft1'), ft2.rename('ft2'),\\\n",
    "                         ft3.rename('ft3'), ft4.rename('ft4'), ft5.rename('ft5'),\\\n",
    "                         ft6.rename('ft6')], axis=1)\n",
    "    \n",
    "    return inputDF"
   ]
  },
  {
   "cell_type": "code",
   "execution_count": null,
   "metadata": {},
   "outputs": [],
   "source": [
    "# train = creation_categorical_feat(train)\n",
    "# test = creation_categorical_feat(test)"
   ]
  },
  {
   "cell_type": "markdown",
   "metadata": {},
   "source": [
    "Check if there are NaN values"
   ]
  },
  {
   "cell_type": "code",
   "execution_count": null,
   "metadata": {},
   "outputs": [],
   "source": [
    "missing = checkMissingData(test)\n",
    "missing_list = list(missing.index)\n",
    "print (missing)"
   ]
  },
  {
   "cell_type": "code",
   "execution_count": null,
   "metadata": {},
   "outputs": [],
   "source": [
    "# # Plot results\n",
    "\n",
    "# nd = pd.melt(dataset, value_vars=varTrans)\n",
    "# n1 = sns.FacetGrid(nd, col='variable', col_wrap=4, sharex=False, sharey=False)\n",
    "# n1.map(sns.distplot, 'value')\n",
    "# n1"
   ]
  },
  {
   "cell_type": "code",
   "execution_count": null,
   "metadata": {},
   "outputs": [],
   "source": [
    "train.select_dtypes(exclude=[np.number]).columns"
   ]
  },
  {
   "cell_type": "code",
   "execution_count": null,
   "metadata": {},
   "outputs": [],
   "source": [
    "train['SalePrice'] = train['SalePrice'].astype('int64')"
   ]
  },
  {
   "cell_type": "markdown",
   "metadata": {},
   "source": [
    "## Fast feature selection"
   ]
  },
  {
   "cell_type": "code",
   "execution_count": null,
   "metadata": {},
   "outputs": [],
   "source": [
    "# Select train data and target\n",
    "X, y = train.drop(['SalePrice', 'bin'], axis=1), train['SalePrice']\n",
    "\n",
    "# Run classifier\n",
    "clf = ExtraTreesClassifier()\n",
    "clf = clf.fit(X, y)\n",
    "features = clf.feature_importances_  \n",
    "\n",
    "# Concatenate with names\n",
    "feat_names = pd.DataFrame(data={'importance': features}, index=X.columns)\n",
    "feat_names = feat_names.sort_values(by='importance', ascending=False)\n",
    "# Thresold features\n",
    "thresold = 0.007\n",
    "Feat_names = feat_names[feat_names['importance'] > thresold]\n",
    "\n",
    "# Plot\n",
    "plt.figure(figsize=(20, 7))\n",
    "plt.stem(np.arange(len(Feat_names)), Feat_names.values)\n",
    "plt.title('Features sorted by importance', fontsize=24)\n",
    "plt.xticks(np.arange(len(Feat_names)), Feat_names.index, rotation=85, fontsize=12)\n",
    "plt.grid(True)\n",
    "plt.show()\n"
   ]
  },
  {
   "cell_type": "code",
   "execution_count": null,
   "metadata": {},
   "outputs": [],
   "source": [
    "Feat_names.index"
   ]
  },
  {
   "cell_type": "markdown",
   "metadata": {},
   "source": [
    "## Select final data"
   ]
  },
  {
   "cell_type": "code",
   "execution_count": null,
   "metadata": {},
   "outputs": [],
   "source": [
    "# Select train data and target\n",
    "X, y = train.drop(['SalePrice', 'bin'], axis=1), train['SalePrice'].apply(np.log)"
   ]
  },
  {
   "cell_type": "code",
   "execution_count": null,
   "metadata": {},
   "outputs": [],
   "source": [
    "testStat, skew = test_stats_skewness(y)\n",
    "print ('The skewness is: {:.4f}'.format(skew))\n",
    "print ('The test statistics at 5% sign level of confidence is {:.3f}'.format(testStat))"
   ]
  },
  {
   "cell_type": "markdown",
   "metadata": {},
   "source": [
    "### Comments"
   ]
  },
  {
   "cell_type": "markdown",
   "metadata": {},
   "source": [
    "### Modelling"
   ]
  },
  {
   "cell_type": "markdown",
   "metadata": {},
   "source": [
    "### Lasso regression"
   ]
  },
  {
   "cell_type": "code",
   "execution_count": null,
   "metadata": {},
   "outputs": [],
   "source": [
    "X_train, X_test, y_train, y_test = train_test_split(X, \n",
    "                                                    y, \n",
    "                                                    shuffle=True,\n",
    "                                                    test_size=0.20, \n",
    "                                                    random_state=42)"
   ]
  },
  {
   "cell_type": "markdown",
   "metadata": {},
   "source": [
    "## Tunning Lasso"
   ]
  },
  {
   "cell_type": "code",
   "execution_count": null,
   "metadata": {},
   "outputs": [],
   "source": [
    "from sklearn.model_selection import GridSearchCV\n",
    "from sklearn.metrics import make_scorer\n",
    "from sklearn.linear_model import Lasso\n",
    "\n",
    "lassoMd = Lasso(normalize=True, max_iter=1e5)\n",
    "param_grid = {'alpha': [0.00065, 0.0006, 0.00055, 0.00003, 0.00003, 0.000005]}\n",
    "\n",
    "gridLasso = GridSearchCV(lassoMd, param_grid, scoring='neg_mean_squared_error', cv=5)\n",
    "gridLasso.fit(X, y)\n",
    "\n",
    "print (gridLasso.best_params_)\n",
    "print (gridLasso.best_score_)\n"
   ]
  },
  {
   "cell_type": "code",
   "execution_count": null,
   "metadata": {},
   "outputs": [],
   "source": [
    "from sklearn.linear_model import Lasso\n",
    "from sklearn.metrics import mean_squared_error\n",
    "# 0.000065\n",
    "# 0.000001\n",
    "lasso = Lasso(alpha=0.0001, normalize=True, max_iter=1e5)\n",
    "lasso.fit(X_train, y_train)\n",
    "y_pred = lasso.predict(X_train)\n",
    "\n",
    "error = np.sqrt(mean_squared_error(y_train, y_pred))\n",
    "print ('Error: {:.6f}'.format(error))"
   ]
  },
  {
   "cell_type": "code",
   "execution_count": null,
   "metadata": {},
   "outputs": [],
   "source": [
    "from sklearn.model_selection import GridSearchCV\n",
    "from sklearn.preprocessing import RobustScaler\n",
    "from sklearn.linear_model import ElasticNet\n",
    "\n",
    "alphas = np.array([0.01,0.001, 0.005, 0.008, 0.0001])\n",
    "\n",
    "# create and fit a ridge regression model, testing each alpha\n",
    "model = ElasticNet(l1_ratio=.85, normalize=True, max_iter=1e6, random_state=3)\n",
    "grid = GridSearchCV(estimator=model, param_grid=dict(alpha=alphas))\n",
    "grid.fit(X_train, y_train)\n",
    "# print(grid)\n",
    "# summarize the results of the grid search\n",
    "print(grid.best_score_)\n",
    "print(grid.best_estimator_.alpha)"
   ]
  },
  {
   "cell_type": "code",
   "execution_count": null,
   "metadata": {},
   "outputs": [],
   "source": [
    "ENet = ElasticNet(alpha=0.0001, l1_ratio=.85, normalize=True, max_iter=1e6)\n",
    "ENet.fit(X_train, y_train)\n",
    "y_pred = ENet.predict(X_train)"
   ]
  },
  {
   "cell_type": "code",
   "execution_count": null,
   "metadata": {
    "scrolled": true
   },
   "outputs": [],
   "source": [
    "error = np.sqrt(mean_squared_error(y_pred, y_train))\n",
    "error "
   ]
  },
  {
   "cell_type": "markdown",
   "metadata": {},
   "source": [
    "## Tunning Xgboost"
   ]
  },
  {
   "cell_type": "code",
   "execution_count": null,
   "metadata": {},
   "outputs": [],
   "source": [
    "# DMatrix\n",
    "dtrain = xgb.DMatrix(X_train, label=y_train)\n",
    "dtest = xgb.DMatrix(X_test, label=y_test)\n",
    "\n",
    "# \"Learn\" the mean from the training data\n",
    "mean_train = np.mean(y_train)\n",
    "\n",
    "# Get predictions on the test set\n",
    "baseline_predictions = np.ones(y_test.shape) * mean_train\n",
    "\n",
    "# Compute MAE\n",
    "mae_baseline = np.sqrt(mean_squared_error(y_test, baseline_predictions))\n",
    "\n",
    "print(\"Baseline RMSE is {:.4f}\".format(mae_baseline))"
   ]
  },
  {
   "cell_type": "code",
   "execution_count": null,
   "metadata": {},
   "outputs": [],
   "source": [
    "params = {\n",
    "    # Parameters that we are going to tune.\n",
    "    'max_depth':2,\n",
    "    'min_child_weight': 1,\n",
    "    'eta':.05,\n",
    "    'subsample': 1,\n",
    "    'gamma':0,\n",
    "    'colsample_bytree': 1,\n",
    "    # Other parameters\n",
    "    'objective':'reg:linear',\n",
    "}"
   ]
  },
  {
   "cell_type": "code",
   "execution_count": null,
   "metadata": {},
   "outputs": [],
   "source": [
    "params['eval_metric'] = 'rmse'\n",
    "num_boost_round = 999"
   ]
  },
  {
   "cell_type": "code",
   "execution_count": null,
   "metadata": {},
   "outputs": [],
   "source": [
    "# model = xgb.train(\n",
    "#     params,\n",
    "#     dtrain,\n",
    "#     num_boost_round=num_boost_round,\n",
    "#     evals=[(dtest, 'Test')],\n",
    "#     early_stopping_rounds=10\n",
    "# )"
   ]
  },
  {
   "cell_type": "code",
   "execution_count": null,
   "metadata": {},
   "outputs": [],
   "source": [
    "# print(\"Best RMSE: {:.4f} with {} rounds\".format(\n",
    "#                  model.best_score,\n",
    "#                  model.best_iteration+1))"
   ]
  },
  {
   "cell_type": "code",
   "execution_count": null,
   "metadata": {},
   "outputs": [],
   "source": [
    "cv_results = xgb.cv(\n",
    "    params,\n",
    "    dtrain,\n",
    "    num_boost_round=num_boost_round,\n",
    "    seed=42,\n",
    "    nfold=5,\n",
    "    metrics={'rmse'},\n",
    "    early_stopping_rounds=15\n",
    ")\n",
    "\n",
    "cv_results[:10]"
   ]
  },
  {
   "cell_type": "code",
   "execution_count": null,
   "metadata": {},
   "outputs": [],
   "source": [
    "# cv_results['test-rmse-mean'].min()"
   ]
  },
  {
   "cell_type": "markdown",
   "metadata": {},
   "source": [
    "### Tune max_depth and min_child_weight"
   ]
  },
  {
   "cell_type": "code",
   "execution_count": null,
   "metadata": {},
   "outputs": [],
   "source": [
    "# You can try wider intervals with a larger step between\n",
    "# each value and then narrow it down. Here after several\n",
    "# iteration I found that the optimal value was in the\n",
    "# following ranges.\n",
    "gridsearch_params = [\n",
    "    (max_depth, min_child_weight)\n",
    "    for max_depth in range(2,10,2)\n",
    "    for min_child_weight in range(1,4,2)\n",
    "]"
   ]
  },
  {
   "cell_type": "code",
   "execution_count": null,
   "metadata": {},
   "outputs": [],
   "source": [
    "# Define initial best params and MAE\n",
    "min_mae = float(\"Inf\")\n",
    "best_params = None\n",
    "for max_depth, min_child_weight in gridsearch_params:\n",
    "    print(\"CV with max_depth={}, min_child_weight={}\".format(\n",
    "                             max_depth,\n",
    "                             min_child_weight))\n",
    "\n",
    "    # Update our parameters\n",
    "    params['max_depth'] = max_depth\n",
    "    params['min_child_weight'] = min_child_weight\n",
    "\n",
    "    # Run CV\n",
    "    cv_results = xgb.cv(\n",
    "        params,\n",
    "        dtrain,\n",
    "        num_boost_round=num_boost_round,\n",
    "        seed=77,\n",
    "        nfold=5,\n",
    "        metrics={'rmse'},\n",
    "        early_stopping_rounds=15\n",
    "    )\n",
    "\n",
    "    # Update best RMSE\n",
    "    mean_mae = cv_results['test-rmse-mean'].min()\n",
    "    boost_rounds = cv_results['test-rmse-mean'].idxmin()\n",
    "    print(\"\\tRMSE {:.5f} for {} rounds\".format(mean_mae, boost_rounds))\n",
    "    if mean_mae < min_mae:\n",
    "        min_mae = mean_mae\n",
    "        best_params = (max_depth,min_child_weight)\n",
    "\n",
    "print(\"Best params: {}, {}, RMSE: {:.5f}\".format(best_params[0], best_params[1], min_mae))"
   ]
  },
  {
   "cell_type": "code",
   "execution_count": null,
   "metadata": {},
   "outputs": [],
   "source": [
    "params['max_depth'] = 2\n",
    "params['min_child_weight'] = 3"
   ]
  },
  {
   "cell_type": "markdown",
   "metadata": {},
   "source": [
    "### Tune subsample and colsample_bytree"
   ]
  },
  {
   "cell_type": "code",
   "execution_count": null,
   "metadata": {},
   "outputs": [],
   "source": [
    "gridsearch_params = [\n",
    "    (subsample, colsample)\n",
    "    for subsample in [i/10. for i in range(6,10)]\n",
    "    for colsample in [i/10. for i in range(6,10)]\n",
    "]"
   ]
  },
  {
   "cell_type": "code",
   "execution_count": null,
   "metadata": {},
   "outputs": [],
   "source": [
    "min_mae = float(\"Inf\")\n",
    "best_params = None\n",
    "\n",
    "# We start by the largest values and go down to the smallest\n",
    "for subsample, colsample in reversed(gridsearch_params):\n",
    "    print(\"CV with subsample={}, colsample={}\".format(\n",
    "                             subsample,\n",
    "                             colsample))\n",
    "\n",
    "    # We update our parameters\n",
    "    params['subsample'] = subsample\n",
    "    params['colsample_bytree'] = colsample\n",
    "\n",
    "    # Run CV\n",
    "    cv_results = xgb.cv(\n",
    "        params,\n",
    "        dtrain,\n",
    "        num_boost_round=num_boost_round,\n",
    "        seed=42,\n",
    "        nfold=5,\n",
    "        metrics={'rmse'},\n",
    "        early_stopping_rounds=15\n",
    "    )\n",
    "\n",
    "    # Update best score\n",
    "    mean_mae = cv_results['test-rmse-mean'].min()\n",
    "    boost_rounds = cv_results['test-rmse-mean'].argmin()\n",
    "    print(\"\\tRMSE {:.5f} for {} rounds\".format(mean_mae, boost_rounds))\n",
    "    if mean_mae < min_mae:\n",
    "        min_mae = mean_mae\n",
    "        best_params = (subsample,colsample)\n",
    "\n",
    "print(\"Best params: {}, {}, RMSE: {:.5f}\".format(best_params[0], best_params[1], min_mae))"
   ]
  },
  {
   "cell_type": "code",
   "execution_count": null,
   "metadata": {},
   "outputs": [],
   "source": [
    "params['subsample'] = 0.8\n",
    "params['colsample'] = 0.5"
   ]
  },
  {
   "cell_type": "markdown",
   "metadata": {},
   "source": [
    "### Tune gamma"
   ]
  },
  {
   "cell_type": "code",
   "execution_count": null,
   "metadata": {},
   "outputs": [],
   "source": [
    "%time\n",
    "#This can take some time…\n",
    "min_mae = float(\"Inf\")\n",
    "best_params = None\n",
    "\n",
    "for gamma in [0,0.1,0.2,0.3,0.4,0.5]:\n",
    "    print(\"CV with eta={}\".format(gamma))\n",
    "\n",
    "    # We update our parameters\n",
    "    params['gamma'] = gamma\n",
    "\n",
    "    # Run and time CV\n",
    "    cv_results = xgb.cv(\\\n",
    "            params,\\\n",
    "            dtrain,\\\n",
    "            num_boost_round=num_boost_round,\\\n",
    "            seed=42,\\\n",
    "            nfold=5,\\\n",
    "            metrics=['rmse'],\\\n",
    "            early_stopping_rounds=15)\n",
    "\n",
    "    # Update best score\n",
    "    mean_mae = cv_results['test-rmse-mean'].min()\n",
    "    boost_rounds = cv_results['test-rmse-mean'].argmin()\n",
    "    print(\"\\tRMSE {:.5f} for {} rounds\\n\".format(mean_mae, boost_rounds))\n",
    "    if mean_mae < min_mae:\n",
    "        min_mae = mean_mae\n",
    "        best_params = eta\n",
    "\n",
    "print(\"Best params: {}, RMSE: {:.5f}\".format(best_params, min_mae))"
   ]
  },
  {
   "cell_type": "markdown",
   "metadata": {},
   "source": [
    "### Tune Learning rate"
   ]
  },
  {
   "cell_type": "code",
   "execution_count": null,
   "metadata": {},
   "outputs": [],
   "source": [
    "%time\n",
    "#This can take some time…\n",
    "min_mae = float(\"Inf\")\n",
    "best_params = None\n",
    "\n",
    "for eta in [.3, .2, .1, .05, .01, .005, 0.00001]:\n",
    "    print(\"CV with eta={}\".format(eta))\n",
    "\n",
    "    # We update our parameters\n",
    "    params['eta'] = eta\n",
    "\n",
    "    # Run and time CV\n",
    "    cv_results = xgb.cv(\\\n",
    "            params,\\\n",
    "            dtrain,\\\n",
    "            num_boost_round=num_boost_round,\\\n",
    "            seed=42,\\\n",
    "            nfold=5,\\\n",
    "            metrics=['rmse'],\\\n",
    "            early_stopping_rounds=15)\n",
    "\n",
    "    # Update best score\n",
    "    mean_mae = cv_results['test-rmse-mean'].min()\n",
    "    boost_rounds = cv_results['test-rmse-mean'].argmin()\n",
    "    print(\"\\tRMSE {:.5f} for {} rounds\\n\".format(mean_mae, boost_rounds))\n",
    "    if mean_mae < min_mae:\n",
    "        min_mae = mean_mae\n",
    "        best_params = eta\n",
    "\n",
    "print(\"Best params: {}, RMSE: {:.5f}\".format(best_params, min_mae))"
   ]
  },
  {
   "cell_type": "markdown",
   "metadata": {},
   "source": [
    "### Test data"
   ]
  },
  {
   "cell_type": "code",
   "execution_count": null,
   "metadata": {},
   "outputs": [],
   "source": [
    "missing = checkMissingData(test)\n",
    "missing_list = list(missing.index)\n",
    "print (missing)"
   ]
  },
  {
   "cell_type": "markdown",
   "metadata": {},
   "source": [
    "## Stacking and Prediction"
   ]
  },
  {
   "cell_type": "code",
   "execution_count": null,
   "metadata": {},
   "outputs": [],
   "source": [
    "test = test.drop(['SalePrice'], axis=1)"
   ]
  },
  {
   "cell_type": "code",
   "execution_count": null,
   "metadata": {},
   "outputs": [],
   "source": [
    "X_test = test"
   ]
  },
  {
   "cell_type": "code",
   "execution_count": null,
   "metadata": {},
   "outputs": [],
   "source": [
    "from sklearn.base import BaseEstimator, TransformerMixin, RegressorMixin, clone\n",
    "from sklearn.model_selection import KFold, cross_val_score, train_test_split\n",
    "from sklearn.pipeline import make_pipeline\n",
    "from sklearn.preprocessing import RobustScaler"
   ]
  },
  {
   "cell_type": "code",
   "execution_count": null,
   "metadata": {},
   "outputs": [],
   "source": [
    "X_train, X_val, y_train, y_val = train_test_split(X, \n",
    "                                                  y, \n",
    "                                                  shuffle=True,\n",
    "                                                  test_size=0.85, \n",
    "                                                  random_state=77)"
   ]
  },
  {
   "cell_type": "code",
   "execution_count": null,
   "metadata": {},
   "outputs": [],
   "source": [
    "# Initializing Lasso model\n",
    "model_lasso = lasso\n",
    "model_Enet = ENet\n",
    "\n",
    "# Initializing XGBoost model\n",
    "model_xgb = xgb.XGBRegressor(colsample_bytree=0.5, gamma=0, \n",
    "                             learning_rate=0.05, max_depth=2, \n",
    "                             min_child_weight=3.0, n_estimators=2200,\n",
    "                             subsample=0.8,\n",
    "                             random_state =42, nthread = -1)"
   ]
  },
  {
   "cell_type": "code",
   "execution_count": null,
   "metadata": {},
   "outputs": [],
   "source": [
    "# Fit models\n",
    "model_lasso.fit(X_train, y_train)\n",
    "model_xgb.fit(X_train, y_train)\n",
    "model_Enet.fit(X_train, y_train)\n",
    "\n",
    "# Make predictions\n",
    "pred_lasso = model_lasso.predict(X_val)\n",
    "pred_xgb = model_xgb.predict(X_val)\n",
    "pred_Enet = model_Enet.predict(X_val)"
   ]
  },
  {
   "cell_type": "markdown",
   "metadata": {},
   "source": [
    "Make prediction for test data"
   ]
  },
  {
   "cell_type": "code",
   "execution_count": null,
   "metadata": {},
   "outputs": [],
   "source": [
    "pred_lasso_test = model_lasso.predict(X_test)\n",
    "pred_xgb_test = model_xgb.predict(X_test)\n",
    "pred_Enet_test = model_Enet.predict(X_test)"
   ]
  },
  {
   "cell_type": "markdown",
   "metadata": {},
   "source": [
    "Stacking predictions"
   ]
  },
  {
   "cell_type": "code",
   "execution_count": null,
   "metadata": {},
   "outputs": [],
   "source": [
    "stacked_val = np.column_stack((pred_lasso, pred_Enet, pred_xgb))\n",
    "stacked_test = np.column_stack((pred_lasso_test, pred_Enet_test, pred_xgb_test))"
   ]
  },
  {
   "cell_type": "markdown",
   "metadata": {},
   "source": [
    "Specifying meta model"
   ]
  },
  {
   "cell_type": "code",
   "execution_count": null,
   "metadata": {},
   "outputs": [],
   "source": [
    "# Specifying meta model -> Lasso regressor\n",
    "lasso_meta_model = model_Enet\n",
    "\n",
    "# Fit  model\n",
    "lasso_meta_model.fit(stacked_val, y_val)"
   ]
  },
  {
   "cell_type": "markdown",
   "metadata": {},
   "source": [
    "Final prediction"
   ]
  },
  {
   "cell_type": "code",
   "execution_count": null,
   "metadata": {},
   "outputs": [],
   "source": [
    "pred_final_test_data = lasso_meta_model.predict(stacked_test)"
   ]
  },
  {
   "cell_type": "code",
   "execution_count": null,
   "metadata": {},
   "outputs": [],
   "source": [
    "filepath = 'Data/'\n",
    "filename = 'train_kaggle.csv'\n",
    "\n",
    "# Load training datset\n",
    "xx = pd.read_csv(filepath + filename)\n",
    "price = np.log(xx.SalePrice[-260:])"
   ]
  },
  {
   "cell_type": "code",
   "execution_count": null,
   "metadata": {},
   "outputs": [],
   "source": [
    "er = np.sqrt(mean_squared_error(pred_final_test_data, price))\n",
    "er "
   ]
  },
  {
   "cell_type": "code",
   "execution_count": null,
   "metadata": {},
   "outputs": [],
   "source": [
    "price"
   ]
  },
  {
   "cell_type": "code",
   "execution_count": null,
   "metadata": {},
   "outputs": [],
   "source": []
  }
 ],
 "metadata": {
  "kernelspec": {
   "display_name": "Python 3",
   "language": "python",
   "name": "python3"
  },
  "language_info": {
   "codemirror_mode": {
    "name": "ipython",
    "version": 3
   },
   "file_extension": ".py",
   "mimetype": "text/x-python",
   "name": "python",
   "nbconvert_exporter": "python",
   "pygments_lexer": "ipython3",
   "version": "3.7.5"
  }
 },
 "nbformat": 4,
 "nbformat_minor": 4
}

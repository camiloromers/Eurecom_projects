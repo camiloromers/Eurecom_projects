{
 "cells": [
  {
   "cell_type": "markdown",
   "metadata": {},
   "source": [
    "."
   ]
  },
  {
   "cell_type": "markdown",
   "metadata": {},
   "source": [
    "# Tic Tac Toe"
   ]
  },
  {
   "cell_type": "markdown",
   "metadata": {},
   "source": [
    "**Author:** Camilo ROMERO <br>\n",
    "**Ecole:** EURECOM / Sophia Antipolis <br>"
   ]
  },
  {
   "cell_type": "markdown",
   "metadata": {},
   "source": [
    "The following notebook is created to show some functionaties about tensorflow. It begins to cover the basics such as declaration variables, constants and how to make operations. Everything in tensorflow is treaten as a graph. I will present a simple example for better illustration. \n",
    "\n",
    "Later on a feedforward neural network to predict the optimal movement of the TIC-TAC-TOE is created. The user can play play against the model. During this process some functionalities tensoflow includes like save partial results in a optimizer process and tensorboard."
   ]
  },
  {
   "cell_type": "markdown",
   "metadata": {},
   "source": [
    "## Let's get started"
   ]
  },
  {
   "cell_type": "code",
   "execution_count": 368,
   "metadata": {
    "collapsed": true,
    "jupyter": {
     "outputs_hidden": true
    }
   },
   "outputs": [],
   "source": [
    "%matplotlib inline\n",
    "import matplotlib.pyplot as plt\n",
    "import tensorflow as tf\n",
    "import numpy as np\n",
    "import csv\n",
    "import random\n",
    "from random import randint"
   ]
  },
  {
   "cell_type": "markdown",
   "metadata": {},
   "source": [
    "Before starting to explain some basic concept in Tensorflow, let's create a function to print the class and value for the following experimentation."
   ]
  },
  {
   "cell_type": "code",
   "execution_count": 369,
   "metadata": {
    "collapsed": true,
    "jupyter": {
     "outputs_hidden": true
    }
   },
   "outputs": [],
   "source": [
    "def printVariabletf(x):\n",
    "    print('Type:\\t {}'.format(type(x)))\n",
    "    print('Value:\\t {}'.format(x))"
   ]
  },
  {
   "cell_type": "markdown",
   "metadata": {},
   "source": [
    "## Constants\n",
    "Constants are defined as follows:"
   ]
  },
  {
   "cell_type": "code",
   "execution_count": 370,
   "metadata": {},
   "outputs": [
    {
     "name": "stdout",
     "output_type": "stream",
     "text": [
      "Type:\t <class 'tensorflow.python.framework.ops.Tensor'>\n",
      "Value:\t Tensor(\"Const_1:0\", shape=(), dtype=string)\n"
     ]
    }
   ],
   "source": [
    "first_tensor = tf.constant('Hello world')\n",
    "printVariabletf(first_tensor)"
   ]
  },
  {
   "cell_type": "markdown",
   "metadata": {},
   "source": [
    "Every number, vector or matrices are theaten as tensors but why you can not see any result?. Tensorflow is lazzy evauated which means your graph will not running until a **session is started**. A **session** allows you to execute your graph."
   ]
  },
  {
   "cell_type": "markdown",
   "metadata": {},
   "source": [
    "## Deploy a session to make things happen\n",
    "You need to create a session before to execute your graph. At the moment, the most simpler way to do it is as the following:"
   ]
  },
  {
   "cell_type": "code",
   "execution_count": 371,
   "metadata": {
    "collapsed": true,
    "jupyter": {
     "outputs_hidden": true
    }
   },
   "outputs": [],
   "source": [
    "# Create session to execute graph\n",
    "sess = tf.Session()"
   ]
  },
  {
   "cell_type": "code",
   "execution_count": 372,
   "metadata": {},
   "outputs": [
    {
     "name": "stdout",
     "output_type": "stream",
     "text": [
      "Type:\t <class 'bytes'>\n",
      "Value:\t b'Hello world'\n"
     ]
    }
   ],
   "source": [
    "# Run graph\n",
    "first_tensor_after_sess = sess.run(first_tensor)\n",
    "# Print values\n",
    "printVariabletf(first_tensor_after_sess)"
   ]
  },
  {
   "cell_type": "code",
   "execution_count": 373,
   "metadata": {},
   "outputs": [
    {
     "name": "stdout",
     "output_type": "stream",
     "text": [
      "Type:\t <class 'tensorflow.python.framework.ops.Tensor'>\n",
      "Value:\t Tensor(\"Const_2:0\", shape=(), dtype=int32)\n",
      "\n",
      "\n",
      "Type:\t <class 'tensorflow.python.framework.ops.Tensor'>\n",
      "Value:\t Tensor(\"constant_name_here:0\", shape=(), dtype=int32)\n"
     ]
    }
   ],
   "source": [
    "a = tf.constant(5)\n",
    "printVariabletf(a)\n",
    "print ('\\n')\n",
    "b = tf.constant(1, name=\"constant_name_here\")\n",
    "printVariabletf(b)"
   ]
  },
  {
   "cell_type": "markdown",
   "metadata": {},
   "source": [
    "## More examples about constants\n",
    "Ok, now it's time to show a practical case. In a simplier way and in order to create a neural network, constants can be used to create the initial bias values to be feed it into a multilayer perceptron."
   ]
  },
  {
   "cell_type": "code",
   "execution_count": 374,
   "metadata": {},
   "outputs": [
    {
     "name": "stdout",
     "output_type": "stream",
     "text": [
      "Type:\t <class 'numpy.ndarray'>\n",
      "Value:\t [[ 1.5]\n",
      " [ 1.5]\n",
      " [ 1.5]\n",
      " [ 1.5]\n",
      " [ 1.5]\n",
      " [ 1.5]\n",
      " [ 1.5]]\n"
     ]
    }
   ],
   "source": [
    "# N = i.e matrix lenght \n",
    "bias = tf.constant(1.5, shape=[7, 1])\n",
    "# Run graph\n",
    "bias_sess = sess.run(bias)\n",
    "# Print values\n",
    "printVariabletf(bias_sess)"
   ]
  },
  {
   "cell_type": "markdown",
   "metadata": {},
   "source": [
    "<div class=\"alert alert-block alert-warning\">\n",
    "Tensorflow supports others mechanims to create constants based on numpy effciently. For more information about, please refer the official link <br>\n",
    "https://www.tensorflow.org/api_docs/python/tf/constant"
   ]
  },
  {
   "cell_type": "markdown",
   "metadata": {},
   "source": [
    "## Computation as a graph\n",
    "\n",
    "In the previous exercises, I've talked about graph but just as a constant values. How does a graph real look like?. A graph in tensorflow is composed by nodes and edges. <font color=green>One important thing to remember is that graphs are not recursive. To be not recursive allow you to parallelize in a simpler way.</font>\n",
    "\n",
    "- Nodes are operations (sum, mult, ...)\n",
    "- Edges are tensors (flow between nodes) What is a tensor? http://www.youtube.com/watch?v=f5liqUk0ZTw\n",
    "\n",
    "\n",
    "<img src=\"graph.png\" style=\"width: 400px;\"/>\n",
    "\n",
    "\n",
    "Before to develop the first graph, let me cover a little bit more about ***Variables vs Placeholders*** and their differences."
   ]
  },
  {
   "cell_type": "markdown",
   "metadata": {},
   "source": [
    "## Variables\n",
    "The most important is:\n",
    "- Variables are components you want to tune in your model (weights, bias, etc).\n",
    "- Need to be initialized before to execute the graph.\n",
    "\n",
    "Variables have another fun characterictics:\n",
    "- Variables are stateful nodes which means they can retain their current value over many execusions.\n",
    "- It's possible to save values during training on disk (we'll see one amazing feature later on)."
   ]
  },
  {
   "cell_type": "markdown",
   "metadata": {},
   "source": [
    "## How to create variables?"
   ]
  },
  {
   "cell_type": "markdown",
   "metadata": {},
   "source": [
    "Variables are created with a simpler sintaxis and as similar as constants."
   ]
  },
  {
   "cell_type": "code",
   "execution_count": 375,
   "metadata": {},
   "outputs": [
    {
     "name": "stdout",
     "output_type": "stream",
     "text": [
      "Type:\t <class 'tensorflow.python.ops.variables.Variable'>\n",
      "Value:\t <tf.Variable 'weights:0' shape=(3, 3) dtype=float32_ref>\n"
     ]
    }
   ],
   "source": [
    "# Create a variable (weights)\n",
    "weight = tf.Variable(tf.random_normal([3, 3], stddev=0.1), name='weights')\n",
    "# Print values\n",
    "printVariabletf(weight)"
   ]
  },
  {
   "cell_type": "markdown",
   "metadata": {},
   "source": [
    "Following the previous steps, a session might be runned to make the magic."
   ]
  },
  {
   "cell_type": "markdown",
   "metadata": {},
   "source": [
    "Let't now initialize all variables and execute the code again"
   ]
  },
  {
   "cell_type": "code",
   "execution_count": 377,
   "metadata": {},
   "outputs": [],
   "source": [
    "# Variable initialization\n",
    "init = tf.global_variables_initializer()\n",
    "# Run session\n",
    "sess.run(init)"
   ]
  },
  {
   "cell_type": "markdown",
   "metadata": {},
   "source": [
    "Each time you want to retrieve something with real values, you need to run your graph"
   ]
  },
  {
   "cell_type": "code",
   "execution_count": 378,
   "metadata": {},
   "outputs": [
    {
     "name": "stdout",
     "output_type": "stream",
     "text": [
      "Type:\t <class 'numpy.ndarray'>\n",
      "Value:\t [[-0.02547475  0.04793238 -0.00915662]\n",
      " [-0.15015781  0.07858554  0.04570621]\n",
      " [ 0.1837976  -0.16526121  0.13488831]]\n"
     ]
    }
   ],
   "source": [
    "weight_sess = sess.run(weight)\n",
    "# Random weights generated before after variable initialization and run respective session\n",
    "printVariabletf(weight_sess)"
   ]
  },
  {
   "cell_type": "markdown",
   "metadata": {},
   "source": [
    "A good practice is to finalize the session after your execution."
   ]
  },
  {
   "cell_type": "code",
   "execution_count": 379,
   "metadata": {
    "collapsed": true,
    "jupyter": {
     "outputs_hidden": true
    }
   },
   "outputs": [],
   "source": [
    "# A session needs to be close\n",
    "sess.close()"
   ]
  },
  {
   "cell_type": "markdown",
   "metadata": {},
   "source": [
    "## Placeholders\n",
    "\n",
    "TensorFlow is designed to work efficiently with large amount of data. So it's important not to starve your TensorFlow model in order to maximize its performance. There are various ways that you can feed your data to TensorFlow and placeholders is one of them.\n",
    "\n",
    "Placeholders in a nutshell:<br>\n",
    "- Placeholders are nodes whose value ***is feed at execution time*** otherwise node is remains empty.\n",
    "- Placeholders are related to external data (data to train your model) which everyone could feed in your model. Why do you need to export your model as input data as variable?. Think for a moment... Each time when a different person uses your predictable model is desirable to deliver with a field where everyone can put their data when you execute it.\n",
    "- In most cases, placeholders don't assume initial values because in your input.\n",
    "\n",
    "But wait a minute...? **Why one cannot pass initial values as a constant instead?**\n",
    "\n",
    "This approach is very efficient, but it's _not very flexible_. One problem with this approach is that, in order to use your model with another dataset you have to rewrite the graph. Also, you have to load all of your data at once and keep it in memory which would only work with small datasets.\n",
    "\n",
    "***\n",
    "### _More..._\n",
    "As I mentioned before, placeholders are not the unique form to pass the data into a model. Tensorflow does not recomment it to use it for large dataset. The recommended way of reading the data in TensorFlow [however is through the Dataset API](https://www.tensorflow.org/api_guides/python/reading_data#Reading_from_files).\n",
    "***\n",
    "\n",
    "Please remember that at this etage we're not running anything. Everything is stuck. I've just created a graph representation as \"symbol\". Using previous definitions, let's now create a simple graph to see how a placeholder is feed in a graph. "
   ]
  },
  {
   "cell_type": "code",
   "execution_count": 380,
   "metadata": {
    "collapsed": true,
    "jupyter": {
     "outputs_hidden": true
    }
   },
   "outputs": [],
   "source": [
    "# Create bias\n",
    "bias = tf.Variable(tf.zeros((5,)))\n",
    "# Random weights as numbers between -1:1\n",
    "W = tf.Variable(tf.random_uniform((10, 5), -1, 1))\n",
    "# Input (dependent training data)\n",
    "x = tf.placeholder(tf.float32, shape=(1, 10))\n",
    "# Activation function\n",
    "outp_graph = tf.nn.relu(tf.matmul(x, W) + bias)"
   ]
  },
  {
   "cell_type": "code",
   "execution_count": 381,
   "metadata": {
    "collapsed": true,
    "jupyter": {
     "outputs_hidden": true
    }
   },
   "outputs": [],
   "source": [
    "# Create a session first\n",
    "sess = tf.Session()\n",
    "# Initializing variables\n",
    "sess.run(tf.global_variables_initializer())"
   ]
  },
  {
   "cell_type": "markdown",
   "metadata": {},
   "source": [
    "Now, how can you feed placeholders in a execution graph? \n",
    "\n",
    "- **Fetches**: List of graph nodes.\n",
    "- **Feeds**: Specify values into a graph node as dictionary (placeholders)"
   ]
  },
  {
   "cell_type": "code",
   "execution_count": 382,
   "metadata": {},
   "outputs": [
    {
     "data": {
      "text/plain": [
       "array([[ 0.        ,  0.90622061,  0.        ,  0.13987575,  0.        ]], dtype=float32)"
      ]
     },
     "execution_count": 382,
     "metadata": {},
     "output_type": "execute_result"
    }
   ],
   "source": [
    "# Feed placeholder in a graph \n",
    "'''  sess.run(fetches_or_graph, feeds_or_values)   '''\n",
    "sess.run(outp_graph, {x:np.random.random([1, 10])})"
   ]
  },
  {
   "cell_type": "code",
   "execution_count": 383,
   "metadata": {
    "collapsed": true,
    "jupyter": {
     "outputs_hidden": true
    }
   },
   "outputs": [],
   "source": [
    "sess.close()"
   ]
  },
  {
   "cell_type": "markdown",
   "metadata": {},
   "source": [
    "***\n",
    "## Neural network to play Tic Tac Toe"
   ]
  },
  {
   "cell_type": "markdown",
   "metadata": {},
   "source": [
    "Now we have all basic tool to start creating a simple neural network. The idea is to build a NN to classify and predict the optimal movement given a specific movement by the user in the famous tic tac toe game. The dataset or training data has, for every possible case, represents the optimal movements that one player can make.\n",
    "\n",
    "In the following picture let me show show each box is defined and which values each player could assume.\n",
    "\n",
    "<img src=\"rules_1.jpg\" style=\"width: 250px;\"/>\n",
    "\n",
    "With the following example, the posible positions in the boars should be:\n",
    "\n",
    "<img src=\"rules_2.jpg\" style=\"width: 350px;\"/>"
   ]
  },
  {
   "cell_type": "code",
   "execution_count": 440,
   "metadata": {
    "collapsed": true,
    "jupyter": {
     "outputs_hidden": true
    }
   },
   "outputs": [],
   "source": [
    "from tensorflow.python.framework import ops\n",
    "ops.reset_default_graph()"
   ]
  },
  {
   "cell_type": "code",
   "execution_count": 441,
   "metadata": {
    "collapsed": true,
    "jupyter": {
     "outputs_hidden": true
    }
   },
   "outputs": [],
   "source": [
    "def read_csv(file):\n",
    "    moves = []\n",
    "    with open(file, 'rt') as csvfile:\n",
    "        readerFile = csv.reader(csvfile, delimiter=';')\n",
    "        for row in readerFile:\n",
    "            moves.append(([int(x) for x in row[0:9]], int(row[9])))\n",
    "    return(moves)"
   ]
  },
  {
   "cell_type": "markdown",
   "metadata": {},
   "source": [
    "A limited number of training data is loaded (unique moves) because until now no one has the entire possible dataset."
   ]
  },
  {
   "cell_type": "code",
   "execution_count": 442,
   "metadata": {},
   "outputs": [
    {
     "data": {
      "text/plain": [
       "[([0, 0, 0, 0, -1, 0, 0, 0, 0], 0),\n",
       " ([0, -1, 0, 0, 0, 0, 0, 0, 0], 0),\n",
       " ([0, 0, 0, 0, 0, -1, 0, 0, 0], 6),\n",
       " ([-1, 0, 0, 0, 0, 0, 0, 0, 0], 4),\n",
       " ([0, 0, 0, 0, 0, 0, 1, -1, -1], 3),\n",
       " ([0, -1, 0, 0, 1, 0, 0, 0, -1], 0),\n",
       " ([0, -1, 1, 0, 0, -1, 0, 0, 0], 7)]"
      ]
     },
     "execution_count": 442,
     "metadata": {},
     "output_type": "execute_result"
    }
   ],
   "source": [
    "file_path = 'training_data.csv'\n",
    "moves = read_csv(file_path)\n",
    "# Show the first n movements\n",
    "moves[:7]"
   ]
  },
  {
   "cell_type": "markdown",
   "metadata": {},
   "source": [
    "Because Tic-Tac-Toc is a symetric game from different point of view, a function is create which will transform an input to the respective symetric movements in order to reduce the training set."
   ]
  },
  {
   "cell_type": "code",
   "execution_count": 443,
   "metadata": {
    "collapsed": true,
    "jupyter": {
     "outputs_hidden": true
    }
   },
   "outputs": [],
   "source": [
    "def symmetric_board(board, resp, transformation):\n",
    "    \n",
    "    if transformation == '180degree':\n",
    "        newResp = 8 - resp\n",
    "        return(board[::-1], newResp)\n",
    "    \n",
    "    elif transformation == '90degree':\n",
    "        newResp = [6, 3, 0, 7, 4, 1, 8, 5, 2].index(resp)\n",
    "        transf_board = list(zip(*[board[6:9], board[3:6], board[0:3]]))\n",
    "        return([value for item in transf_board for value in item], newResp)\n",
    "    \n",
    "    elif transformation == '270degree':\n",
    "        newResp = [2, 5, 8, 1, 4, 7, 0, 3, 6].index(resp)\n",
    "        transf_board = list(zip(*[board[0:3], board[3:6], board[6:9]]))[::-1]\n",
    "        return([value for item in transf_board for value in item], newResp)\n",
    "    \n",
    "    elif transformation == 'Vflip':\n",
    "        newResp = [6, 7, 8, 3, 4, 5, 0, 1, 2].index(resp)\n",
    "        return(board[6:9] +  board[3:6] + board[0:3], newResp)\n",
    "    \n",
    "    elif transformation == 'Hflip': \n",
    "        newResp = [2, 1, 0, 5, 4, 3, 8, 7, 6].index(resp)\n",
    "        transf_board = board[::-1]\n",
    "        return(transf_board[6:9] +  transf_board[3:6] + transf_board[0:3], newResp)"
   ]
  },
  {
   "cell_type": "markdown",
   "metadata": {},
   "source": [
    "The following function is created to generate random moves that will later fill the training set or input to the neural network."
   ]
  },
  {
   "cell_type": "code",
   "execution_count": 444,
   "metadata": {
    "collapsed": true,
    "jupyter": {
     "outputs_hidden": true
    }
   },
   "outputs": [],
   "source": [
    "def random_moves(moves, rand_transforms=2):\n",
    "    '''\n",
    "    moves: # possible moves to be generated randomly.\n",
    "    rand_transforms: # random transforms performed on each moves\n",
    "    '''\n",
    "    (board, resp) = random.choice(moves)\n",
    "    for i in range(rand_transforms):\n",
    "        random_transform = random.choice(['90degree', '180degree', '270degree', 'Vflip', 'Hflip'])\n",
    "        # Call simetric function to generate random moves\n",
    "        (board, resp) = symmetric_board(board, resp, random_transform)\n",
    "    return(board, resp)"
   ]
  },
  {
   "cell_type": "code",
   "execution_count": 445,
   "metadata": {
    "collapsed": true,
    "jupyter": {
     "outputs_hidden": true
    }
   },
   "outputs": [],
   "source": [
    "response = 6\n",
    "symmetry = ['180degree', '90degree', '270degree', 'Vflip', 'Hflip']"
   ]
  },
  {
   "cell_type": "markdown",
   "metadata": {},
   "source": [
    "Ok, it's time to create the training set. Remember that Tic-Tac-Toe has 908 possible moves."
   ]
  },
  {
   "cell_type": "code",
   "execution_count": 446,
   "metadata": {},
   "outputs": [
    {
     "name": "stdout",
     "output_type": "stream",
     "text": [
      "Examples of random training set:\n"
     ]
    },
    {
     "data": {
      "text/plain": [
       "[([-1, 0, 0, 0, 0, 0, 0, 0, 0], 4),\n",
       " ([0, 0, -1, 1, 1, 1, 0, 0, -1], 6),\n",
       " ([0, 0, -1, 0, 1, 0, -1, 0, 0], 3)]"
      ]
     },
     "execution_count": 446,
     "metadata": {},
     "output_type": "execute_result"
    }
   ],
   "source": [
    "# Create a train set:\n",
    "train_length = 700\n",
    "# List to fill training set with random generated moves\n",
    "training_data = []\n",
    "for t in range(train_length):\n",
    "    training_data.append(random_moves(moves))\n",
    "   \n",
    "print ('Examples of random training set:')\n",
    "training_data[0:3]"
   ]
  },
  {
   "cell_type": "markdown",
   "metadata": {},
   "source": [
    "A good practice is any machine learning model is to test with a specific dataset. In order to do that, let me select a random moves and remove all instances or symetries from training data to see of the following moves to see if the model is well estimated."
   ]
  },
  {
   "cell_type": "code",
   "execution_count": 447,
   "metadata": {},
   "outputs": [
    {
     "name": "stdout",
     "output_type": "stream",
     "text": [
      "[0, 0, 0, -1, 0, 1, 1, -1, -1]\n",
      "Training length after test set was removed: 700\n",
      "695\n"
     ]
    }
   ],
   "source": [
    "# Pick random game from training set\n",
    "while True:\n",
    "    # Generate random number\n",
    "    random_num = random.randint(0, len(training_data)/2)\n",
    "    # Select possible game\n",
    "    possible_game = training_data[random_num][0]\n",
    "    # Check if possible game has equal number of X and 0 = 5 (fair game) e.g. [1,-1,0,-1,1,-1,0,0]\n",
    "    equal_game = np.sum(np.abs(possible_game))\n",
    "#     print ('{} \\t\\t {}'.format(possible_game, equal_game))\n",
    "    if equal_game == 5:\n",
    "        test_game = possible_game\n",
    "        break\n",
    "    else:\n",
    "        continue\n",
    "            \n",
    "print (test_game)\n",
    "\n",
    "# Removes from training set\n",
    "train_set = [x for x in training_data if x[0] != test_game]\n",
    "\n",
    "# Total length tainining set\n",
    "print ('Training length after test set was removed: {}'.format(len(training_data)))\n",
    "print (len(train_set))"
   ]
  },
  {
   "cell_type": "markdown",
   "metadata": {},
   "source": [
    "Ok, it's time to define the neural network. First the weights are initialized for the hidden layer. A function is created to randomly assing values between 0-1 according to the shape defined.\n",
    "\n",
    "<!-- <img src=\"neural.jpg\" style=\"width: 350px;\"/> -->"
   ]
  },
  {
   "cell_type": "code",
   "execution_count": 448,
   "metadata": {
    "collapsed": true,
    "jupyter": {
     "outputs_hidden": true
    }
   },
   "outputs": [],
   "source": [
    "# Initialization random weight\n",
    "def init_weights(shape):\n",
    "    return(tf.Variable(tf.random_normal(shape)))\n",
    "\n",
    "num_inputs = 9\n",
    "hidden_units = 81\n",
    "\n",
    "# Initial weights for hidden layer\n",
    "A1 = init_weights([num_inputs, hidden_units])\n",
    "bias1 = init_weights([hidden_units])\n",
    "\n",
    "# Initial weights for output layer\n",
    "A2 = init_weights([hidden_units, num_inputs])\n",
    "bias2 = init_weights([num_inputs])\n",
    "\n",
    "# Defining Placeholders to place data (X -> moves | Y -> target or optimal moves)\n",
    "X = tf.placeholder(dtype=tf.float32, shape=[None, num_inputs])\n",
    "Y = tf.placeholder(dtype=tf.int32, shape=[None])"
   ]
  },
  {
   "cell_type": "markdown",
   "metadata": {},
   "source": [
    "Finally the neural network is built using tensorflow operators"
   ]
  },
  {
   "cell_type": "code",
   "execution_count": 449,
   "metadata": {
    "collapsed": true,
    "jupyter": {
     "outputs_hidden": true
    }
   },
   "outputs": [],
   "source": [
    "# Layer 1 is computed with an activation function (sigmoid)\n",
    "layer_1 = tf.nn.sigmoid(tf.add(tf.matmul(X, A1), bias1))\n",
    "# Layer 2 is the sum of previous output * weight + bias \n",
    "layer_2 = tf.add(tf.matmul(layer_1, A2), bias2)\n",
    "\n",
    "model_output = layer_2"
   ]
  },
  {
   "cell_type": "markdown",
   "metadata": {},
   "source": [
    "To evaluate the model a loss function needs to be defined. The loss function will be useful to measure how far the model is with real predictors. In the current case a softmax cross entropy is used."
   ]
  },
  {
   "cell_type": "code",
   "execution_count": 450,
   "metadata": {
    "collapsed": true,
    "jupyter": {
     "outputs_hidden": true
    }
   },
   "outputs": [],
   "source": [
    "# Cost function definition\n",
    "loss = tf.reduce_mean(tf.nn.sparse_softmax_cross_entropy_with_logits(logits=model_output, labels=Y))\n",
    "\n",
    "# Learning rate\n",
    "learning_rate = 0.025\n",
    "train_step = tf.train.GradientDescentOptimizer(learning_rate).minimize(loss)\n",
    "\n",
    "# Prediction\n",
    "prediction = tf.argmax(model_output, 1)"
   ]
  },
  {
   "cell_type": "markdown",
   "metadata": {},
   "source": [
    "Finally, the neural network is constructed. It's time to initialize all variables and run the graph. Remember that the weight should be updated each time a backpropagation is executed. "
   ]
  },
  {
   "cell_type": "code",
   "execution_count": 451,
   "metadata": {
    "collapsed": true,
    "jupyter": {
     "outputs_hidden": true
    }
   },
   "outputs": [],
   "source": [
    "sess = tf.Session()\n",
    "init = tf.global_variables_initializer()\n",
    "sess.run(init)"
   ]
  },
  {
   "cell_type": "code",
   "execution_count": 452,
   "metadata": {},
   "outputs": [
    {
     "name": "stdout",
     "output_type": "stream",
     "text": [
      "Iteration:\t0 \t\t Loss:\t8.58723\n",
      "Iteration:\t500 \t\t Loss:\t1.93894\n",
      "Iteration:\t1000 \t\t Loss:\t1.70549\n",
      "Iteration:\t1500 \t\t Loss:\t1.43674\n",
      "Iteration:\t2000 \t\t Loss:\t1.40549\n",
      "Iteration:\t2500 \t\t Loss:\t1.32012\n",
      "Iteration:\t3000 \t\t Loss:\t1.2376\n",
      "Iteration:\t3500 \t\t Loss:\t1.26593\n",
      "Iteration:\t4000 \t\t Loss:\t1.09862\n",
      "Iteration:\t4500 \t\t Loss:\t1.04252\n",
      "Iteration:\t5000 \t\t Loss:\t1.03437\n",
      "Iteration:\t5500 \t\t Loss:\t0.915755\n",
      "Iteration:\t6000 \t\t Loss:\t0.989807\n",
      "Iteration:\t6500 \t\t Loss:\t0.867781\n",
      "Iteration:\t7000 \t\t Loss:\t0.873282\n",
      "Iteration:\t7500 \t\t Loss:\t0.863133\n",
      "Iteration:\t8000 \t\t Loss:\t0.989379\n",
      "Iteration:\t8500 \t\t Loss:\t0.894706\n",
      "Iteration:\t9000 \t\t Loss:\t0.775526\n",
      "Iteration:\t9500 \t\t Loss:\t0.823882\n",
      "Iteration:\t10000 \t\t Loss:\t0.844286\n",
      "Iteration:\t10500 \t\t Loss:\t0.734348\n",
      "Iteration:\t11000 \t\t Loss:\t0.728751\n",
      "Iteration:\t11500 \t\t Loss:\t0.704768\n",
      "Iteration:\t12000 \t\t Loss:\t0.767549\n"
     ]
    }
   ],
   "source": [
    "''' Now a mini batch gradient descent is performed\n",
    "in the NN model (Remember the procedure to perfom a mini batch GD)\n",
    "- Values should be picked as random without replacement\n",
    "- An improvement is made by each batch'''\n",
    "\n",
    "# list to track loss\n",
    "lossAcum = []\n",
    "# batcg size\n",
    "batch_size = 200\n",
    "# epoch number\n",
    "n_epochs = 12500\n",
    "\n",
    "for i in range(n_epochs):\n",
    "    \n",
    "    # Pick random values from training dataset\n",
    "    rand_indices = np.random.choice(range(len(training_data)), batch_size, replace=False)\n",
    "    \n",
    "    # The batch data should be composed \n",
    "    batch_data = [training_data[i] for i in rand_indices]\n",
    "    \n",
    "    # Split data in moves and predicator\n",
    "    x_input = [x[0] for x in batch_data]\n",
    "    y_target = np.array([y[1] for y in batch_data])\n",
    "    \n",
    "    # Run graph with training data\n",
    "    sess.run(train_step, feed_dict={X: x_input, Y: y_target})\n",
    "    \n",
    "    # Compute loss\n",
    "    tempLoss = sess.run(loss, feed_dict={X: x_input, Y: y_target})\n",
    "    lossAcum.append(tempLoss)\n",
    "    if i%500==0:\n",
    "        print('Iteration:\\t{} \\t\\t Loss:\\t{}'.format(str(i), str(tempLoss)))"
   ]
  },
  {
   "cell_type": "code",
   "execution_count": 453,
   "metadata": {},
   "outputs": [
    {
     "data": {
      "image/png": "[encoded data removed]",
      "text/plain": [
       "<matplotlib.figure.Figure at 0x118ff04e0>"
      ]
     },
     "metadata": {},
     "output_type": "display_data"
    }
   ],
   "source": [
    "# Print results\n",
    "plt.figure(figsize=(12,7))\n",
    "plt.plot(lossAcum, '--', label='Loss')\n",
    "plt.title('Tracking Loss')\n",
    "plt.xlabel('Iterations')\n",
    "plt.ylabel('Loss')\n",
    "plt.show()"
   ]
  },
  {
   "cell_type": "code",
   "execution_count": 454,
   "metadata": {},
   "outputs": [
    {
     "name": "stdout",
     "output_type": "stream",
     "text": [
      "Prediction location: [1]\n"
     ]
    }
   ],
   "source": [
    "# Make Prediction\n",
    "testgame = [test_game]\n",
    "# Feed in neural network test game\n",
    "feed_test_game = {X: testgame}\n",
    "# Run graph\n",
    "logits = sess.run(model_output, feed_dict=feed_test_game)\n",
    "# Make prediction\n",
    "predictions = sess.run(prediction, feed_dict=feed_test_game)\n",
    "print('Prediction location: {}'.format(predictions))"
   ]
  },
  {
   "cell_type": "markdown",
   "metadata": {},
   "source": [
    "And to make it more visual, allow me to define a function to print the board. The following board depicts the test movement created to test the model"
   ]
  },
  {
   "cell_type": "code",
   "execution_count": 455,
   "metadata": {
    "collapsed": true,
    "jupyter": {
     "outputs_hidden": true
    }
   },
   "outputs": [],
   "source": [
    "def display_board(board):\n",
    "    symbols = ['o','-','x']\n",
    "    board_symb = [int(x) + 1 for x in board]\n",
    "    print(' ' + symbols[board_symb[0]] + ' | ' + symbols[board_symb[1]] + ' | ' + symbols[board_symb[2]])\n",
    "    print('--- --- ---')\n",
    "    print(' ' + symbols[board_symb[3]] + ' | ' + symbols[board_symb[4]] + ' | ' + symbols[board_symb[5]])\n",
    "    print('--- --- ---')\n",
    "    print(' ' + symbols[board_symb[6]] + ' | ' + symbols[board_symb[7]] + ' | ' + symbols[board_symb[8]])"
   ]
  },
  {
   "cell_type": "code",
   "execution_count": 456,
   "metadata": {},
   "outputs": [
    {
     "name": "stdout",
     "output_type": "stream",
     "text": [
      " - | - | -\n",
      "--- --- ---\n",
      " o | - | x\n",
      "--- --- ---\n",
      " x | o | o\n"
     ]
    }
   ],
   "source": [
    "display_board(testgame[0])"
   ]
  },
  {
   "cell_type": "markdown",
   "metadata": {},
   "source": [
    "Now let me show the borad with the predicted movement."
   ]
  },
  {
   "cell_type": "code",
   "execution_count": 457,
   "metadata": {},
   "outputs": [
    {
     "name": "stdout",
     "output_type": "stream",
     "text": [
      " - | x | -\n",
      "--- --- ---\n",
      " o | - | x\n",
      "--- --- ---\n",
      " x | o | o\n"
     ]
    }
   ],
   "source": [
    "'''\n",
    "Because test_game may contain more X or O, a correct predictor moves value is found (either 1 or -1)\n",
    "'''\n",
    "if np.sum(test_game) >= 1:\n",
    "    # if there is more than X (+1), an opposite move should be played (-1).\n",
    "    opponent_value = -1\n",
    "else:\n",
    "    # if there is more than 0 (-1), an opposite move should be played (+1).\n",
    "    opponent_value = 1\n",
    "\n",
    "# Add test_game list the predicted move\n",
    "test_board_after_pred = test_game\n",
    "test_board_after_pred[predictions.tolist()[0]] = opponent_value\n",
    "display_board(test_board_after_pred)"
   ]
  },
  {
   "cell_type": "markdown",
   "metadata": {},
   "source": [
    "It's time to play against the model... <br>\n",
    "Would you beat the machine model in the Tic Tac Toe game? <br><br>\n",
    "Let's get started..."
   ]
  },
  {
   "cell_type": "code",
   "execution_count": 460,
   "metadata": {},
   "outputs": [
    {
     "name": "stdout",
     "output_type": "stream",
     "text": [
      "Your turn (you're X)... think carefully -> Introduce a number between (0-8):0\n",
      "//////////////////////////////\n",
      "-> Neural Network (O) has moved in position: 6\n",
      " x |   |  \n",
      "--- --- ---\n",
      "   |   |  \n",
      "--- --- ---\n",
      " o |   |  \n",
      "Your turn (you're X)... think carefully -> Introduce a number between (0-8):5\n",
      "//////////////////////////////\n",
      "-> Neural Network (O) has moved in position: 2\n",
      " x |   | o\n",
      "--- --- ---\n",
      "   |   | x\n",
      "--- --- ---\n",
      " o |   |  \n",
      "Your turn (you're X)... think carefully -> Introduce a number between (0-8):4\n",
      "//////////////////////////////\n",
      "-> Neural Network (O) has moved in position: 7\n",
      " x |   | o\n",
      "--- --- ---\n",
      "   | x | x\n",
      "--- --- ---\n",
      " o | o |  \n"
     ]
    }
   ],
   "source": [
    "# Initial match\n",
    "game = [0., 0., 0., 0., 0., 0., 0., 0., 0.]\n",
    "\n",
    "numMoves = 0\n",
    "totalMoves = 3\n",
    "while numMoves < totalMoves:\n",
    "    \n",
    "    user = input('Your turn (you\\'re X)... think carefully -> Introduce a number between (0-8):')\n",
    "    numMoves += 1\n",
    "    \n",
    "    # Fill initial game with user moves\n",
    "    game[int(user)] = 1.\n",
    "    \n",
    "    # Calculate posible moves according to user previous movemennt\n",
    "    [possible_model_moves] = sess.run(model_output, feed_dict={X: [game]})\n",
    "    \n",
    "    # Find allowed moves (empty fields)\n",
    "    allowed_moves = [ix for ix,x in enumerate(game) if x==0.0]\n",
    "    \n",
    "    # Find best move (max value of logits)\n",
    "    model = np.argmax([x if ix in allowed_moves else -999.0 for ix,x in enumerate(possible_model_moves)])\n",
    "    \n",
    "    # Add model move to game\n",
    "    game[int(model)] = -1.\n",
    "    \n",
    "    print ('//////////////////////////////')\n",
    "    print('-> Neural Network (O) has moved in position: {}'.format(model))\n",
    "    print_board(game)\n"
   ]
  },
  {
   "cell_type": "markdown",
   "metadata": {},
   "source": [
    "### ___One more thing...___\n",
    "So, if the computer would lose power after **many hours of training**, we would lose all of that work. One cool thing about Tensflow is allows to save partial results during training process in a binary files.  We should periodically save the variables and create checkpoint file to eventually restore the training process from the most recebt checkpoint if needed."
   ]
  },
  {
   "cell_type": "code",
   "execution_count": 44,
   "metadata": {},
   "outputs": [
    {
     "name": "stdout",
     "output_type": "stream",
     "text": [
      "Iteration:\t0 \t\t Loss:\t0.727125\n",
      "Iteration:\t500 \t\t Loss:\t0.721791\n",
      "Iteration:\t1000 \t\t Loss:\t0.695276\n",
      "Iteration:\t1500 \t\t Loss:\t0.680659\n",
      "Iteration:\t2000 \t\t Loss:\t0.659495\n",
      "Iteration:\t2500 \t\t Loss:\t0.663703\n",
      "Iteration:\t3000 \t\t Loss:\t0.64522\n",
      "Iteration:\t3500 \t\t Loss:\t0.679455\n",
      "Iteration:\t4000 \t\t Loss:\t0.656855\n",
      "Iteration:\t4500 \t\t Loss:\t0.549333\n",
      "Iteration:\t5000 \t\t Loss:\t0.722285\n"
     ]
    }
   ],
   "source": [
    "# Create a server\n",
    "saver = tf.train.Saver()\n",
    "\n",
    "lossAcum = []\n",
    "batch_size = 200\n",
    "n_epochs = 12500\n",
    "\n",
    "for i in range(n_epochs):\n",
    "    \n",
    "    # Pick random values from training dataset\n",
    "    rand_indices = np.random.choice(range(len(train_set)), batch_size, replace=False)\n",
    "    \n",
    "    # The batch data should be composed \n",
    "    batch_data = [train_set[i] for i in rand_indices]\n",
    "    \n",
    "    # Split data in moves and predicator\n",
    "    x_input = [x[0] for x in batch_data]\n",
    "    y_target = np.array([y[1] for y in batch_data])\n",
    "    \n",
    "    # Run graph with training data\n",
    "    sess.run(train_step, feed_dict={X: x_input, Y: y_target})\n",
    "    \n",
    "    # Compute loss\n",
    "    tempLoss = sess.run(loss, feed_dict={X: x_input, Y: y_target})\n",
    "    lossAcum.append(tempLoss)\n",
    "    if i%500==0:\n",
    "        print('Iteration:\\t{} \\t\\t Loss:\\t{}'.format(str(i), str(tempLoss)))\n",
    "    \n",
    "    ''' To save your results partially, \n",
    "    please add and interpret the following \n",
    "    piece of code.'''\n",
    "    # ---------------------\n",
    "    # Save partial results\n",
    "    if i%500==0:\n",
    "        saver.save(sess, 'my_first_NN', global_step=i)\n",
    "    \n",
    "    # Simulate that at some point the process is suddenly stopped\n",
    "    if i == 5000:\n",
    "        break\n",
    "        \n",
    "saver.save(sess, 'my_first_NN', global_step=i, write_meta_graph=False)\n",
    "sess.close()"
   ]
  },
  {
   "cell_type": "markdown",
   "metadata": {},
   "source": [
    "If one wished to recover the training from certain point, you may use the following code."
   ]
  },
  {
   "cell_type": "code",
   "execution_count": 45,
   "metadata": {},
   "outputs": [
    {
     "name": "stdout",
     "output_type": "stream",
     "text": [
      "INFO:tensorflow:Restoring parameters from ./my_first_NN-5000\n",
      "Iteration:\t5000 \t\t Loss:\t0.643254\n",
      "Iteration:\t5500 \t\t Loss:\t0.522033\n",
      "Iteration:\t6000 \t\t Loss:\t0.579537\n",
      "Iteration:\t6500 \t\t Loss:\t0.62023\n",
      "Iteration:\t7000 \t\t Loss:\t0.577375\n",
      "Iteration:\t7500 \t\t Loss:\t0.554304\n",
      "Iteration:\t8000 \t\t Loss:\t0.538758\n",
      "Iteration:\t8500 \t\t Loss:\t0.510386\n",
      "Iteration:\t9000 \t\t Loss:\t0.493336\n",
      "Iteration:\t9500 \t\t Loss:\t0.518605\n",
      "Iteration:\t10000 \t\t Loss:\t0.575793\n",
      "Iteration:\t10500 \t\t Loss:\t0.512544\n",
      "Iteration:\t11000 \t\t Loss:\t0.514219\n",
      "Iteration:\t11500 \t\t Loss:\t0.52143\n",
      "Iteration:\t12000 \t\t Loss:\t0.501521\n"
     ]
    }
   ],
   "source": [
    "import os\n",
    "\n",
    "sess = tf.Session()\n",
    "\n",
    "# Verify if a checkpoint was correctly saved and exists\n",
    "ckpt = tf.train.get_checkpoint_state(os.path.dirname('./'))\n",
    "\n",
    "initial_step = 0\n",
    "if ckpt and ckpt.model_checkpoint_path:\n",
    "    \n",
    "    # Restore from checkpoint\n",
    "    saver.restore(sess, ckpt.model_checkpoint_path)\n",
    "    # Get the last step during interrupted training process\n",
    "    initial_step = int(ckpt.model_checkpoint_path.rsplit('-', 1)[1])\n",
    "    \n",
    " \n",
    "for i in range(initial_step, n_epochs):\n",
    "    \n",
    "    # Pick random values from training dataset\n",
    "    rand_indices = np.random.choice(range(len(train_set)), batch_size, replace=False)\n",
    "    \n",
    "    # The batch data should be composed \n",
    "    batch_data = [train_set[i] for i in rand_indices]\n",
    "    \n",
    "    # Split data in moves and predicator\n",
    "    x_input = [x[0] for x in batch_data]\n",
    "    y_target = np.array([y[1] for y in batch_data])\n",
    "    \n",
    "    # Run graph with training data\n",
    "    sess.run(train_step, feed_dict={X: x_input, Y: y_target})\n",
    "    \n",
    "    # Compute loss\n",
    "    tempLoss = sess.run(loss, feed_dict={X: x_input, Y: y_target})\n",
    "    lossAcum.append(tempLoss)\n",
    "    if i%500==0:\n",
    "        print('Iteration:\\t{} \\t\\t Loss:\\t{}'.format(str(i), str(tempLoss)))\n",
    "        \n",
    "sess.close()                      "
   ]
  },
  {
   "cell_type": "code",
   "execution_count": 439,
   "metadata": {
    "collapsed": true,
    "jupyter": {
     "outputs_hidden": true
    }
   },
   "outputs": [],
   "source": [
    "sess.close()"
   ]
  }
 ],
 "metadata": {
  "kernelspec": {
   "display_name": "Python 3",
   "language": "python",
   "name": "python3"
  },
  "language_info": {
   "codemirror_mode": {
    "name": "ipython",
    "version": 3
   },
   "file_extension": ".py",
   "mimetype": "text/x-python",
   "name": "python",
   "nbconvert_exporter": "python",
   "pygments_lexer": "ipython3",
   "version": "3.7.5"
  }
 },
 "nbformat": 4,
 "nbformat_minor": 4
}
